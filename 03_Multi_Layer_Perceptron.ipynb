{
  "nbformat": 4,
  "nbformat_minor": 0,
  "metadata": {
    "colab": {
      "name": "03_Multi_Layer_Perceptron.ipynb",
      "provenance": [],
      "collapsed_sections": [],
      "machine_shape": "hm",
      "toc_visible": true
    },
    "kernelspec": {
      "name": "python3",
      "display_name": "Python 3"
    },
    "language_info": {
      "name": "python"
    }
  },
  "cells": [
    {
      "cell_type": "code",
      "execution_count": 1,
      "metadata": {
        "id": "KswCu5yX3qlN"
      },
      "outputs": [],
      "source": [
        "import numpy as np"
      ]
    },
    {
      "cell_type": "markdown",
      "source": [
        "- AND Gate"
      ],
      "metadata": {
        "id": "RH5QqDFX33S2"
      }
    },
    {
      "cell_type": "code",
      "source": [
        "weight = np.array([1,1])\n",
        "bias = -1\n",
        "for x1, x2 in [(0,0), (0,1), (1,0), (1,1)]:\n",
        "  sum = weight[0] * x1 + weight[1] * x2 + bias\n",
        "  print(sum)\n"
      ],
      "metadata": {
        "colab": {
          "base_uri": "https://localhost:8080/"
        },
        "id": "4QCVuV4j3yWi",
        "outputId": "ddd3afda-4a6c-4635-9647-803198781d76"
      },
      "execution_count": null,
      "outputs": [
        {
          "output_type": "stream",
          "name": "stdout",
          "text": [
            "-1\n",
            "0\n",
            "0\n",
            "1\n"
          ]
        }
      ]
    },
    {
      "cell_type": "code",
      "source": [
        "# Step 활성화 함수\n",
        "for x1, x2 in [(0,0), (0,1), (1,0), (1,1)]:\n",
        "  sum = weight[0] * x1 + weight[1] * x2 + bias\n",
        "  print(0 if sum <= 0 else 1)"
      ],
      "metadata": {
        "id": "5AHL8db_4J9T",
        "colab": {
          "base_uri": "https://localhost:8080/"
        },
        "outputId": "13c87d87-7b22-458f-969b-e4bc5241babb"
      },
      "execution_count": null,
      "outputs": [
        {
          "output_type": "stream",
          "name": "stdout",
          "text": [
            "0\n",
            "0\n",
            "0\n",
            "1\n"
          ]
        }
      ]
    },
    {
      "cell_type": "code",
      "source": [
        "for x1, x2 in [(0,0), (0,1), (1,0), (1,1)]:\n",
        "  x = np.array([x1,x2])\n",
        "  sum = np.dot(weight, x) + bias\n",
        "  print(0 if sum <= 0 else 1)"
      ],
      "metadata": {
        "colab": {
          "base_uri": "https://localhost:8080/"
        },
        "id": "X9UXkeaK4gk0",
        "outputId": "c2ae1348-82e4-469c-97ee-58fa82482a9a"
      },
      "execution_count": null,
      "outputs": [
        {
          "output_type": "stream",
          "name": "stdout",
          "text": [
            "0\n",
            "0\n",
            "0\n",
            "1\n"
          ]
        }
      ]
    },
    {
      "cell_type": "code",
      "source": [
        "def AND_gate(x1, x2):\n",
        "  weight = np.array([1,1])\n",
        "  bias = -1\n",
        "  x = np.array([x1,x2])\n",
        "  sum = np.dot(weight, x) + bias\n",
        "  return 0 if sum <= 0 else 1"
      ],
      "metadata": {
        "id": "aRXbc4A543PI"
      },
      "execution_count": 2,
      "outputs": []
    },
    {
      "cell_type": "code",
      "source": [
        "for x1, x2 in [(0,0), (0,1), (1,0), (1,1)]:\n",
        "  print(AND_gate(x1,x2))"
      ],
      "metadata": {
        "colab": {
          "base_uri": "https://localhost:8080/"
        },
        "id": "EjKT338o5FDu",
        "outputId": "fd2f728c-3d1f-404b-9378-c5da0cfca251"
      },
      "execution_count": null,
      "outputs": [
        {
          "output_type": "stream",
          "name": "stdout",
          "text": [
            "0\n",
            "0\n",
            "0\n",
            "1\n"
          ]
        }
      ]
    },
    {
      "cell_type": "markdown",
      "source": [
        "- OR Gate"
      ],
      "metadata": {
        "id": "6D759ZEL5Sqi"
      }
    },
    {
      "cell_type": "code",
      "source": [
        "def OR_gate(x1, x2):\n",
        "  weight = np.array([2,2])\n",
        "  bias = -1\n",
        "  x = np.array([x1,x2])\n",
        "  sum = np.dot(weight, x) + bias\n",
        "  return 0 if sum <= 0 else 1"
      ],
      "metadata": {
        "id": "R26ajVcK5R_A"
      },
      "execution_count": 3,
      "outputs": []
    },
    {
      "cell_type": "code",
      "source": [
        "for x1, x2 in [(0,0), (0,1), (1,0), (1,1)]:\n",
        "  print(OR_gate(x1,x2))"
      ],
      "metadata": {
        "colab": {
          "base_uri": "https://localhost:8080/"
        },
        "id": "xz8l5V805boF",
        "outputId": "ef0431bb-b9ad-462f-d659-e5456d073ca4"
      },
      "execution_count": null,
      "outputs": [
        {
          "output_type": "stream",
          "name": "stdout",
          "text": [
            "0\n",
            "1\n",
            "1\n",
            "1\n"
          ]
        }
      ]
    },
    {
      "cell_type": "markdown",
      "source": [
        "- NAND Gate"
      ],
      "metadata": {
        "id": "SSgCI3Pc5m8D"
      }
    },
    {
      "cell_type": "code",
      "source": [
        "def NAND_gate(x1, x2):\n",
        "  weight = np.array([-2,-2])\n",
        "  bias = 3\n",
        "  x = np.array([x1,x2])\n",
        "  sum = np.dot(weight, x) + bias\n",
        "  return 0 if sum <= 0 else 1"
      ],
      "metadata": {
        "id": "0631kAC45hto"
      },
      "execution_count": 4,
      "outputs": []
    },
    {
      "cell_type": "code",
      "source": [
        "for x1, x2 in [(0,0), (0,1), (1,0), (1,1)]:\n",
        "  print(NAND_gate(x1,x2))\n",
        "\n",
        "\n",
        "  # np.dot(weight, x) = \n",
        "  # -2 -2\n",
        "  #  *  *\n",
        "  # x1 x2\n",
        "  # -2*x1 + -2*x2\n",
        "  # bias = 3\n",
        "  # sum = npdot(weight, x) + bias\n",
        "  # sum = -2*x1 + -2*x2 + 3\n",
        "  # sum(0,0) = 3 return 1\n",
        "  # sum(0,1) = 0 + -2 + 3 = 1 return 1\n",
        "  # sum(1,0) = -2 + 0 + 3 = 1 return 1\n",
        "  # sum(1,1) = -2 + -2 + 3 = -1 return 0"
      ],
      "metadata": {
        "colab": {
          "base_uri": "https://localhost:8080/"
        },
        "id": "Wte2VPoT57hN",
        "outputId": "12e289f1-ab79-43b1-d40a-099a99ad4c0a"
      },
      "execution_count": null,
      "outputs": [
        {
          "output_type": "stream",
          "name": "stdout",
          "text": [
            "1\n",
            "1\n",
            "1\n",
            "0\n"
          ]
        }
      ]
    },
    {
      "cell_type": "markdown",
      "source": [
        "- MLP(MultiLayerPerceptron)"
      ],
      "metadata": {
        "id": "W0LJHvHSNqKF"
      }
    },
    {
      "cell_type": "code",
      "source": [
        "n1, n2 = [], []\n",
        "for x1, x2 in [(0,0), (0,1), (1,0), (1,1)]:\n",
        "  n1.append(NAND_gate(x1,x2))\n",
        "  n2.append(OR_gate(x1,x2))"
      ],
      "metadata": {
        "id": "i6Ul_6k1NP1m"
      },
      "execution_count": 5,
      "outputs": []
    },
    {
      "cell_type": "code",
      "source": [
        "n1, n2"
      ],
      "metadata": {
        "colab": {
          "base_uri": "https://localhost:8080/"
        },
        "id": "6wSMywWLOA51",
        "outputId": "b450ff00-83d0-4bdd-b8f5-e8fd09f6823d"
      },
      "execution_count": 6,
      "outputs": [
        {
          "output_type": "execute_result",
          "data": {
            "text/plain": [
              "([1, 1, 1, 0], [0, 1, 1, 1])"
            ]
          },
          "metadata": {},
          "execution_count": 6
        }
      ]
    },
    {
      "cell_type": "code",
      "source": [
        "for x1, x2 in zip(n1, n2):\n",
        "  print(AND_gate(x1, x2))"
      ],
      "metadata": {
        "colab": {
          "base_uri": "https://localhost:8080/"
        },
        "id": "Kqo89eJpODjf",
        "outputId": "0b33583f-7e35-4130-aafe-b00a0abe5ee7"
      },
      "execution_count": 8,
      "outputs": [
        {
          "output_type": "stream",
          "name": "stdout",
          "text": [
            "0\n",
            "1\n",
            "1\n",
            "0\n"
          ]
        }
      ]
    },
    {
      "cell_type": "markdown",
      "source": [
        "- XOR gate"
      ],
      "metadata": {
        "id": "HFI6zJQOOVsQ"
      }
    },
    {
      "cell_type": "code",
      "source": [
        "def XOR_gate(x1, x2):\n",
        "  return AND_gate(NAND_gate(x1, x2), OR_gate(x1, x2))"
      ],
      "metadata": {
        "id": "h2ewN9_zOMFe"
      },
      "execution_count": 9,
      "outputs": []
    },
    {
      "cell_type": "code",
      "source": [
        "print('x1,x2\\tn1,n2\\tXOR')\n",
        "for x1, x2 in [(0,0), (0,1), (1,0), (1,1)]:\n",
        "  print(f'{x1:2d},{x2:2d}\\t{NAND_gate(x1,x2)},{OR_gate(x1,x2):2d}\\t{XOR_gate(x1,x2):3d}\\t')"
      ],
      "metadata": {
        "colab": {
          "base_uri": "https://localhost:8080/"
        },
        "id": "ehWsJ-enOilI",
        "outputId": "6a199f35-9b02-440b-fab9-550190f33c75"
      },
      "execution_count": 13,
      "outputs": [
        {
          "output_type": "stream",
          "name": "stdout",
          "text": [
            "x1,x2\tn1,n2\tXOR\n",
            " 0, 0\t1, 0\t  0\t\n",
            " 0, 1\t1, 1\t  1\t\n",
            " 1, 0\t1, 1\t  1\t\n",
            " 1, 1\t0, 1\t  0\t\n"
          ]
        }
      ]
    },
    {
      "cell_type": "code",
      "source": [
        ""
      ],
      "metadata": {
        "id": "oMfy0HY6OpQ_"
      },
      "execution_count": null,
      "outputs": []
    }
  ]
}