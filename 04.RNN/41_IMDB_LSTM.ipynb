{
  "nbformat": 4,
  "nbformat_minor": 0,
  "metadata": {
    "colab": {
      "name": "41_IMDB_LSTM.ipynb",
      "provenance": [],
      "collapsed_sections": []
    },
    "kernelspec": {
      "name": "python3",
      "display_name": "Python 3"
    },
    "language_info": {
      "name": "python"
    },
    "accelerator": "GPU"
  },
  "cells": [
    {
      "cell_type": "code",
      "execution_count": 1,
      "metadata": {
        "id": "P7MsY4cy27Jd"
      },
      "outputs": [],
      "source": [
        "from tensorflow.keras.datasets import imdb\n",
        "(X_train, y_train), (X_test, y_test) = imdb.load_data()"
      ]
    },
    {
      "cell_type": "code",
      "source": [
        "X_train.shape, X_test.shape"
      ],
      "metadata": {
        "colab": {
          "base_uri": "https://localhost:8080/"
        },
        "id": "BGJhHH-L3CSy",
        "outputId": "b58db515-46b7-4935-a54d-27ed735205a7"
      },
      "execution_count": 2,
      "outputs": [
        {
          "output_type": "execute_result",
          "data": {
            "text/plain": [
              "((25000,), (25000,))"
            ]
          },
          "metadata": {},
          "execution_count": 2
        }
      ]
    },
    {
      "cell_type": "code",
      "source": [
        "print(X_train[0])"
      ],
      "metadata": {
        "colab": {
          "base_uri": "https://localhost:8080/"
        },
        "id": "gn6YVvNB3IQb",
        "outputId": "39da5563-8dcd-4bc2-8674-a93101ad4aa4"
      },
      "execution_count": 3,
      "outputs": [
        {
          "output_type": "stream",
          "name": "stdout",
          "text": [
            "[1, 14, 22, 16, 43, 530, 973, 1622, 1385, 65, 458, 4468, 66, 3941, 4, 173, 36, 256, 5, 25, 100, 43, 838, 112, 50, 670, 22665, 9, 35, 480, 284, 5, 150, 4, 172, 112, 167, 21631, 336, 385, 39, 4, 172, 4536, 1111, 17, 546, 38, 13, 447, 4, 192, 50, 16, 6, 147, 2025, 19, 14, 22, 4, 1920, 4613, 469, 4, 22, 71, 87, 12, 16, 43, 530, 38, 76, 15, 13, 1247, 4, 22, 17, 515, 17, 12, 16, 626, 18, 19193, 5, 62, 386, 12, 8, 316, 8, 106, 5, 4, 2223, 5244, 16, 480, 66, 3785, 33, 4, 130, 12, 16, 38, 619, 5, 25, 124, 51, 36, 135, 48, 25, 1415, 33, 6, 22, 12, 215, 28, 77, 52, 5, 14, 407, 16, 82, 10311, 8, 4, 107, 117, 5952, 15, 256, 4, 31050, 7, 3766, 5, 723, 36, 71, 43, 530, 476, 26, 400, 317, 46, 7, 4, 12118, 1029, 13, 104, 88, 4, 381, 15, 297, 98, 32, 2071, 56, 26, 141, 6, 194, 7486, 18, 4, 226, 22, 21, 134, 476, 26, 480, 5, 144, 30, 5535, 18, 51, 36, 28, 224, 92, 25, 104, 4, 226, 65, 16, 38, 1334, 88, 12, 16, 283, 5, 16, 4472, 113, 103, 32, 15, 16, 5345, 19, 178, 32]\n"
          ]
        }
      ]
    },
    {
      "cell_type": "code",
      "source": [
        "# 등장한 단어수\n",
        "len(imdb.get_word_index())"
      ],
      "metadata": {
        "colab": {
          "base_uri": "https://localhost:8080/"
        },
        "id": "zBvG1T6x3Kez",
        "outputId": "18ece3d7-863a-4ac4-8984-1bd9faeeb72c"
      },
      "execution_count": 4,
      "outputs": [
        {
          "output_type": "execute_result",
          "data": {
            "text/plain": [
              "88584"
            ]
          },
          "metadata": {},
          "execution_count": 4
        }
      ]
    },
    {
      "cell_type": "code",
      "source": [
        "# 리뷰 최대 길이, 평균 길이\n",
        "max(len(s) for s in X_train), sum(map(len, X_train)) / len(X_train)"
      ],
      "metadata": {
        "colab": {
          "base_uri": "https://localhost:8080/"
        },
        "id": "9I_ZLS5V3RVN",
        "outputId": "fa074d1d-0860-40c2-ac96-e69106f64f5f"
      },
      "execution_count": 5,
      "outputs": [
        {
          "output_type": "execute_result",
          "data": {
            "text/plain": [
              "(2494, 238.71364)"
            ]
          },
          "metadata": {},
          "execution_count": 5
        }
      ]
    },
    {
      "cell_type": "markdown",
      "source": [
        "### LSTM으로 감성분석\n",
        "- 단어 빈도수: 10,000 (총 88,584)\n",
        "- 리뷰 단어수: 500 (최대 2,494)\n",
        "- 최대 데이터 갯수 ==> 여러분들의 몫\n",
        "  - trian: 25000, valid: 10000,  test: 150000 \n",
        "- 수업 시간\n",
        "  - train: 20000, test: 5000 (valid: 20%)"
      ],
      "metadata": {
        "id": "XX0vTTnO3hcF"
      }
    },
    {
      "cell_type": "code",
      "source": [
        "import numpy as np\n",
        "import tensorflow as tf\n",
        "seed = 2022\n",
        "np.random.seed(seed)\n",
        "tf.random.set_seed(seed)"
      ],
      "metadata": {
        "id": "HxnYfLKh3Zkj"
      },
      "execution_count": 6,
      "outputs": []
    },
    {
      "cell_type": "code",
      "source": [
        "from tensorflow.keras.models import Sequential, load_model\n",
        "from tensorflow.keras.layers import Embedding, LSTM, Dense\n",
        "from tensorflow.keras.callbacks import ModelCheckpoint, EarlyStopping\n",
        "from tensorflow.keras.preprocessing.sequence import pad_sequences\n",
        "from sklearn.model_selection import train_test_split"
      ],
      "metadata": {
        "id": "fWgo1rHX41TD"
      },
      "execution_count": 7,
      "outputs": []
    },
    {
      "cell_type": "code",
      "source": [
        "num_words = 10000\n",
        "(X_train, y_train), (_, _) = imdb.load_data(num_words=num_words)"
      ],
      "metadata": {
        "id": "AupNSP1E49Iq"
      },
      "execution_count": 8,
      "outputs": []
    },
    {
      "cell_type": "code",
      "source": [
        "X_train, X_test, y_train, y_test = train_test_split(\n",
        "    X_train, y_train, stratify=y_train, test_size=0.2, random_state=seed\n",
        ")\n",
        "X_train.shape, X_test.shape, y_train.shape, y_test.shape"
      ],
      "metadata": {
        "colab": {
          "base_uri": "https://localhost:8080/"
        },
        "id": "oVktmWs-5J3l",
        "outputId": "4ca6dd96-b65b-4a63-bf93-cd6aac16b2e7"
      },
      "execution_count": 9,
      "outputs": [
        {
          "output_type": "execute_result",
          "data": {
            "text/plain": [
              "((20000,), (5000,), (20000,), (5000,))"
            ]
          },
          "metadata": {},
          "execution_count": 9
        }
      ]
    },
    {
      "cell_type": "code",
      "source": [
        "max_len = 500\n",
        "X_train = pad_sequences(X_train, maxlen=max_len)\n",
        "X_test = pad_sequences(X_test, maxlen=max_len)\n",
        "X_train.shape, X_test.shape"
      ],
      "metadata": {
        "colab": {
          "base_uri": "https://localhost:8080/"
        },
        "id": "TL2YJJyP5h1-",
        "outputId": "f4f1de2a-316b-413d-a795-4a9d58fac004"
      },
      "execution_count": 10,
      "outputs": [
        {
          "output_type": "execute_result",
          "data": {
            "text/plain": [
              "((20000, 500), (5000, 500))"
            ]
          },
          "metadata": {},
          "execution_count": 10
        }
      ]
    },
    {
      "cell_type": "markdown",
      "source": [
        "- 모델"
      ],
      "metadata": {
        "id": "0kYdrFLQ6gp3"
      }
    },
    {
      "cell_type": "code",
      "source": [
        "model = Sequential([\n",
        "                    Embedding(num_words, 100, input_length=max_len),\n",
        "                    LSTM(128),\n",
        "                    Dense(1, activation='sigmoid')\n",
        "])\n",
        "model.summary()"
      ],
      "metadata": {
        "colab": {
          "base_uri": "https://localhost:8080/"
        },
        "id": "Ylyd-oox6AXH",
        "outputId": "1678bafd-8939-4a12-da8b-12796f14f092"
      },
      "execution_count": 11,
      "outputs": [
        {
          "output_type": "stream",
          "name": "stdout",
          "text": [
            "Model: \"sequential\"\n",
            "_________________________________________________________________\n",
            " Layer (type)                Output Shape              Param #   \n",
            "=================================================================\n",
            " embedding (Embedding)       (None, 500, 100)          1000000   \n",
            "                                                                 \n",
            " lstm (LSTM)                 (None, 128)               117248    \n",
            "                                                                 \n",
            " dense (Dense)               (None, 1)                 129       \n",
            "                                                                 \n",
            "=================================================================\n",
            "Total params: 1,117,377\n",
            "Trainable params: 1,117,377\n",
            "Non-trainable params: 0\n",
            "_________________________________________________________________\n"
          ]
        }
      ]
    },
    {
      "cell_type": "code",
      "source": [
        "model.compile('adam', 'binary_crossentropy', ['accuracy'])"
      ],
      "metadata": {
        "id": "RaEbLPhu68za"
      },
      "execution_count": 15,
      "outputs": []
    },
    {
      "cell_type": "code",
      "source": [
        "model_path = 'best-imdb-lstm.h5'\n",
        "mc = ModelCheckpoint(model_path, verbose=1, save_best_only=True)\n",
        "es = EarlyStopping(patience=5)"
      ],
      "metadata": {
        "id": "wxgmFs447Y5n"
      },
      "execution_count": 16,
      "outputs": []
    },
    {
      "cell_type": "code",
      "source": [
        "hist = model.fit(\n",
        "    X_train, y_train, validation_split=0.2,\n",
        "    epochs=30, batch_size=64, callbacks=[mc,es]\n",
        ")"
      ],
      "metadata": {
        "colab": {
          "base_uri": "https://localhost:8080/"
        },
        "id": "QwaIN1I67onF",
        "outputId": "48d6eae2-7996-4ff4-f190-0275061c1eb7"
      },
      "execution_count": 17,
      "outputs": [
        {
          "output_type": "stream",
          "name": "stdout",
          "text": [
            "Epoch 1/30\n",
            "249/250 [============================>.] - ETA: 0s - loss: 0.5216 - accuracy: 0.7340\n",
            "Epoch 1: val_loss improved from inf to 0.40301, saving model to best-imdb-lstm.h5\n",
            "250/250 [==============================] - 16s 31ms/step - loss: 0.5213 - accuracy: 0.7344 - val_loss: 0.4030 - val_accuracy: 0.8255\n",
            "Epoch 2/30\n",
            "250/250 [==============================] - ETA: 0s - loss: 0.3278 - accuracy: 0.8654\n",
            "Epoch 2: val_loss did not improve from 0.40301\n",
            "250/250 [==============================] - 7s 28ms/step - loss: 0.3278 - accuracy: 0.8654 - val_loss: 0.4398 - val_accuracy: 0.8008\n",
            "Epoch 3/30\n",
            "248/250 [============================>.] - ETA: 0s - loss: 0.2565 - accuracy: 0.8994\n",
            "Epoch 3: val_loss improved from 0.40301 to 0.35555, saving model to best-imdb-lstm.h5\n",
            "250/250 [==============================] - 7s 29ms/step - loss: 0.2566 - accuracy: 0.8992 - val_loss: 0.3555 - val_accuracy: 0.8528\n",
            "Epoch 4/30\n",
            "250/250 [==============================] - ETA: 0s - loss: 0.1873 - accuracy: 0.9316\n",
            "Epoch 4: val_loss did not improve from 0.35555\n",
            "250/250 [==============================] - 7s 28ms/step - loss: 0.1873 - accuracy: 0.9316 - val_loss: 0.3869 - val_accuracy: 0.8300\n",
            "Epoch 5/30\n",
            "249/250 [============================>.] - ETA: 0s - loss: 0.1334 - accuracy: 0.9515\n",
            "Epoch 5: val_loss did not improve from 0.35555\n",
            "250/250 [==============================] - 8s 30ms/step - loss: 0.1331 - accuracy: 0.9516 - val_loss: 0.4074 - val_accuracy: 0.8543\n",
            "Epoch 6/30\n",
            "250/250 [==============================] - ETA: 0s - loss: 0.1091 - accuracy: 0.9618\n",
            "Epoch 6: val_loss did not improve from 0.35555\n",
            "250/250 [==============================] - 8s 31ms/step - loss: 0.1091 - accuracy: 0.9618 - val_loss: 0.4855 - val_accuracy: 0.8622\n",
            "Epoch 7/30\n",
            "249/250 [============================>.] - ETA: 0s - loss: 0.1023 - accuracy: 0.9622\n",
            "Epoch 7: val_loss did not improve from 0.35555\n",
            "250/250 [==============================] - 8s 30ms/step - loss: 0.1032 - accuracy: 0.9619 - val_loss: 0.4359 - val_accuracy: 0.8572\n",
            "Epoch 8/30\n",
            "249/250 [============================>.] - ETA: 0s - loss: 0.0719 - accuracy: 0.9772\n",
            "Epoch 8: val_loss did not improve from 0.35555\n",
            "250/250 [==============================] - 7s 28ms/step - loss: 0.0720 - accuracy: 0.9771 - val_loss: 0.5235 - val_accuracy: 0.8550\n"
          ]
        }
      ]
    },
    {
      "cell_type": "code",
      "source": [
        "best_model = load_model(model_path)\n",
        "best_model.evaluate(X_test, y_test)"
      ],
      "metadata": {
        "colab": {
          "base_uri": "https://localhost:8080/"
        },
        "id": "spJ0XOgl7qk9",
        "outputId": "4a015e24-4304-4e97-ca70-6eeeafa7df4d"
      },
      "execution_count": 18,
      "outputs": [
        {
          "output_type": "stream",
          "name": "stdout",
          "text": [
            "157/157 [==============================] - 2s 11ms/step - loss: 0.3796 - accuracy: 0.8454\n"
          ]
        },
        {
          "output_type": "execute_result",
          "data": {
            "text/plain": [
              "[0.37963852286338806, 0.8453999757766724]"
            ]
          },
          "metadata": {},
          "execution_count": 18
        }
      ]
    },
    {
      "cell_type": "code",
      "source": [
        "y_acc = hist.history['accuracy']\n",
        "y_vloss = hist.history['val_loss']\n",
        "xs = np.arange(1, len(y_acc)+1)"
      ],
      "metadata": {
        "id": "q2TsFv_t8XIM"
      },
      "execution_count": 19,
      "outputs": []
    },
    {
      "cell_type": "code",
      "source": [
        "import matplotlib.pyplot as plt\n",
        "plt.figure(figsize=(12,8))\n",
        "plt.plot(xs, y_acc, label='train accuracy')\n",
        "plt.plot(xs, y_vloss, label='validation loss')\n",
        "plt.legend(), plt.grid()\n",
        "plt.xlabel('Epoch')\n",
        "plt.show()"
      ],
      "metadata": {
        "colab": {
          "base_uri": "https://localhost:8080/",
          "height": 497
        },
        "id": "6Laz9ajl8Vn1",
        "outputId": "670436de-dfcb-4117-860f-43e86a68f3d5"
      },
      "execution_count": 20,
      "outputs": [
        {
          "output_type": "display_data",
          "data": {
            "text/plain": [
              "<Figure size 864x576 with 1 Axes>"
            ],
            "image/png": "[encoded data removed]"
          },
          "metadata": {
            "needs_background": "light"
          }
        }
      ]
    },
    {
      "cell_type": "code",
      "source": [
        ""
      ],
      "metadata": {
        "id": "bA5CKrci8iOT"
      },
      "execution_count": null,
      "outputs": []
    }
  ]
}