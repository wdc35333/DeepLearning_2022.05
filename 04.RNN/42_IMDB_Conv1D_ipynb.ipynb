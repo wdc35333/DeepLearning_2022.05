{
  "nbformat": 4,
  "nbformat_minor": 0,
  "metadata": {
    "colab": {
      "name": "42_IMDB_Conv1D.ipynb.ipynb",
      "provenance": [],
      "collapsed_sections": []
    },
    "kernelspec": {
      "name": "python3",
      "display_name": "Python 3"
    },
    "language_info": {
      "name": "python"
    },
    "accelerator": "GPU"
  },
  "cells": [
    {
      "cell_type": "markdown",
      "source": [
        "# IMDB 영화리뷰 감성분석 - Conv1D\n",
        "- Conv1D + Conv1D + Dense\n",
        "- Conv1D + LSTM + Dense\n",
        "- Conv1D + Dense + Dense"
      ],
      "metadata": {
        "id": "FH2HeeqWCW3O"
      }
    },
    {
      "cell_type": "code",
      "execution_count": 1,
      "metadata": {
        "id": "uuNbBKIICTRB"
      },
      "outputs": [],
      "source": [
        "import numpy as np\n",
        "import tensorflow as tf\n",
        "seed = 2022\n",
        "np.random.seed(seed)\n",
        "tf.random.set_seed(seed)"
      ]
    },
    {
      "cell_type": "code",
      "source": [
        "from tensorflow.keras.datasets import imdb\n",
        "from tensorflow.keras.models import Sequential, load_model\n",
        "from tensorflow.keras.layers import Embedding, LSTM, Dense, Dropout\n",
        "from tensorflow.keras.layers import Conv1D, MaxPooling1D, GlobalMaxPooling1D\n",
        "from tensorflow.keras.callbacks import ModelCheckpoint, EarlyStopping\n",
        "from tensorflow.keras.preprocessing.sequence import pad_sequences\n",
        "from sklearn.model_selection import train_test_split"
      ],
      "metadata": {
        "id": "Nxd2bgB2CvZc"
      },
      "execution_count": 8,
      "outputs": []
    },
    {
      "cell_type": "code",
      "source": [
        "num_words = 10000\n",
        "(X_train, y_train), (_, _) = imdb.load_data(num_words=num_words)"
      ],
      "metadata": {
        "colab": {
          "base_uri": "https://localhost:8080/"
        },
        "id": "YXFc8M_UCzX8",
        "outputId": "22bc41d0-38e7-4ebb-dfd6-5e89e2d0cedf"
      },
      "execution_count": 5,
      "outputs": [
        {
          "output_type": "stream",
          "name": "stdout",
          "text": [
            "Downloading data from https://storage.googleapis.com/tensorflow/tf-keras-datasets/imdb.npz\n",
            "17465344/17464789 [==============================] - 0s 0us/step\n",
            "17473536/17464789 [==============================] - 0s 0us/step\n"
          ]
        }
      ]
    },
    {
      "cell_type": "code",
      "source": [
        "X_train, X_test, y_train, y_test = train_test_split(\n",
        "    X_train, y_train, stratify=y_train, test_size=0.2, random_state=seed\n",
        ")\n",
        "X_train.shape, X_test.shape, y_train.shape, y_test.shape"
      ],
      "metadata": {
        "colab": {
          "base_uri": "https://localhost:8080/"
        },
        "id": "xLx6Q9oCC0ji",
        "outputId": "977e7c41-0a6d-4604-daba-fa27df801fae"
      },
      "execution_count": 6,
      "outputs": [
        {
          "output_type": "execute_result",
          "data": {
            "text/plain": [
              "((20000,), (5000,), (20000,), (5000,))"
            ]
          },
          "metadata": {},
          "execution_count": 6
        }
      ]
    },
    {
      "cell_type": "code",
      "source": [
        "max_len = 500\n",
        "X_train = pad_sequences(X_train, maxlen=max_len)\n",
        "X_test = pad_sequences(X_test, maxlen=max_len)\n",
        "X_train.shape, X_test.shape"
      ],
      "metadata": {
        "colab": {
          "base_uri": "https://localhost:8080/"
        },
        "id": "qev5xbmZC9-e",
        "outputId": "9ba70be7-068c-4c8d-ae4f-dc130ded9da5"
      },
      "execution_count": 7,
      "outputs": [
        {
          "output_type": "execute_result",
          "data": {
            "text/plain": [
              "((20000, 500), (5000, 500))"
            ]
          },
          "metadata": {},
          "execution_count": 7
        }
      ]
    },
    {
      "cell_type": "markdown",
      "source": [
        "- Case 1) Conv1D x 2"
      ],
      "metadata": {
        "id": "28wloOyDDJJQ"
      }
    },
    {
      "cell_type": "code",
      "source": [
        "model1 = Sequential([\n",
        "                     Embedding(num_words, 100, input_length=max_len),\n",
        "                     Dropout(0.5),\n",
        "                     Conv1D(64, 7, activation='relu'),\n",
        "                     MaxPooling1D(7),\n",
        "                     Conv1D(64, 5, activation='relu'),\n",
        "                     MaxPooling1D(5),\n",
        "                     GlobalMaxPooling1D(),\n",
        "                     Dense(1, activation='sigmoid')\n",
        "])\n",
        "model1.summary()"
      ],
      "metadata": {
        "colab": {
          "base_uri": "https://localhost:8080/"
        },
        "id": "UaGrE3aoDEMz",
        "outputId": "d6dbef8c-f747-4109-aaa5-75e6762dd2ae"
      },
      "execution_count": 9,
      "outputs": [
        {
          "output_type": "stream",
          "name": "stdout",
          "text": [
            "Model: \"sequential\"\n",
            "_________________________________________________________________\n",
            " Layer (type)                Output Shape              Param #   \n",
            "=================================================================\n",
            " embedding (Embedding)       (None, 500, 100)          1000000   \n",
            "                                                                 \n",
            " dropout (Dropout)           (None, 500, 100)          0         \n",
            "                                                                 \n",
            " conv1d (Conv1D)             (None, 494, 64)           44864     \n",
            "                                                                 \n",
            " max_pooling1d (MaxPooling1D  (None, 70, 64)           0         \n",
            " )                                                               \n",
            "                                                                 \n",
            " conv1d_1 (Conv1D)           (None, 66, 64)            20544     \n",
            "                                                                 \n",
            " max_pooling1d_1 (MaxPooling  (None, 13, 64)           0         \n",
            " 1D)                                                             \n",
            "                                                                 \n",
            " global_max_pooling1d (Globa  (None, 64)               0         \n",
            " lMaxPooling1D)                                                  \n",
            "                                                                 \n",
            " dense (Dense)               (None, 1)                 65        \n",
            "                                                                 \n",
            "=================================================================\n",
            "Total params: 1,065,473\n",
            "Trainable params: 1,065,473\n",
            "Non-trainable params: 0\n",
            "_________________________________________________________________\n"
          ]
        }
      ]
    },
    {
      "cell_type": "code",
      "source": [
        "model1.compile('adam', 'binary_crossentropy', ['accuracy'])\n",
        "model1_path = 'best-imdb-conv1d-conv1d.h5'\n",
        "mc1 = ModelCheckpoint(model1_path, verbose=1, save_best_only=True)\n",
        "es1 = EarlyStopping(patience=5)"
      ],
      "metadata": {
        "id": "RRRVRdvWICCP"
      },
      "execution_count": 12,
      "outputs": []
    },
    {
      "cell_type": "code",
      "source": [
        "hist1 = model1.fit(\n",
        "    X_train, y_train, validation_split=0.2,\n",
        "    epochs=30, batch_size=64, callbacks=[mc1,es1]\n",
        ")"
      ],
      "metadata": {
        "colab": {
          "base_uri": "https://localhost:8080/"
        },
        "id": "mGxU6o0PIphR",
        "outputId": "7516436d-06f4-40ca-ba26-28b4258eecd7"
      },
      "execution_count": 13,
      "outputs": [
        {
          "output_type": "stream",
          "name": "stdout",
          "text": [
            "Epoch 1/30\n",
            "245/250 [============================>.] - ETA: 0s - loss: 0.5606 - accuracy: 0.6746\n",
            "Epoch 1: val_loss improved from inf to 0.35860, saving model to best-imdb-conv1d-conv1d.h5\n",
            "250/250 [==============================] - 14s 10ms/step - loss: 0.5564 - accuracy: 0.6783 - val_loss: 0.3586 - val_accuracy: 0.8475\n",
            "Epoch 2/30\n",
            "246/250 [============================>.] - ETA: 0s - loss: 0.2872 - accuracy: 0.8827\n",
            "Epoch 2: val_loss improved from 0.35860 to 0.32364, saving model to best-imdb-conv1d-conv1d.h5\n",
            "250/250 [==============================] - 2s 8ms/step - loss: 0.2879 - accuracy: 0.8819 - val_loss: 0.3236 - val_accuracy: 0.8587\n",
            "Epoch 3/30\n",
            "250/250 [==============================] - ETA: 0s - loss: 0.1937 - accuracy: 0.9262\n",
            "Epoch 3: val_loss did not improve from 0.32364\n",
            "250/250 [==============================] - 2s 8ms/step - loss: 0.1937 - accuracy: 0.9262 - val_loss: 0.3492 - val_accuracy: 0.8553\n",
            "Epoch 4/30\n",
            "244/250 [============================>.] - ETA: 0s - loss: 0.1318 - accuracy: 0.9525\n",
            "Epoch 4: val_loss did not improve from 0.32364\n",
            "250/250 [==============================] - 2s 9ms/step - loss: 0.1320 - accuracy: 0.9523 - val_loss: 0.3700 - val_accuracy: 0.8605\n",
            "Epoch 5/30\n",
            "247/250 [============================>.] - ETA: 0s - loss: 0.0856 - accuracy: 0.9698\n",
            "Epoch 5: val_loss did not improve from 0.32364\n",
            "250/250 [==============================] - 2s 9ms/step - loss: 0.0863 - accuracy: 0.9696 - val_loss: 0.4538 - val_accuracy: 0.8555\n",
            "Epoch 6/30\n",
            "250/250 [==============================] - ETA: 0s - loss: 0.0573 - accuracy: 0.9804\n",
            "Epoch 6: val_loss did not improve from 0.32364\n",
            "250/250 [==============================] - 2s 9ms/step - loss: 0.0573 - accuracy: 0.9804 - val_loss: 0.5283 - val_accuracy: 0.8602\n",
            "Epoch 7/30\n",
            "249/250 [============================>.] - ETA: 0s - loss: 0.0387 - accuracy: 0.9858\n",
            "Epoch 7: val_loss did not improve from 0.32364\n",
            "250/250 [==============================] - 2s 10ms/step - loss: 0.0389 - accuracy: 0.9857 - val_loss: 0.6240 - val_accuracy: 0.8560\n"
          ]
        }
      ]
    },
    {
      "cell_type": "code",
      "source": [
        "best_model1 = load_model(model1_path)\n",
        "best_model1.evaluate(X_test, y_test)"
      ],
      "metadata": {
        "colab": {
          "base_uri": "https://localhost:8080/"
        },
        "id": "igPVxf2NI5oD",
        "outputId": "e5933cfb-c53c-49ec-d079-c0e2bf548ad2"
      },
      "execution_count": 14,
      "outputs": [
        {
          "output_type": "stream",
          "name": "stdout",
          "text": [
            "157/157 [==============================] - 1s 3ms/step - loss: 0.3087 - accuracy: 0.8688\n"
          ]
        },
        {
          "output_type": "execute_result",
          "data": {
            "text/plain": [
              "[0.308663934469223, 0.8687999844551086]"
            ]
          },
          "metadata": {},
          "execution_count": 14
        }
      ]
    },
    {
      "cell_type": "markdown",
      "source": [
        "- Case 2) Conv1D + LSTM"
      ],
      "metadata": {
        "id": "vfnnC4JQGZQt"
      }
    },
    {
      "cell_type": "code",
      "source": [
        "model2 = Sequential([\n",
        "                     Embedding(num_words, 100, input_length=max_len),\n",
        "                     Dropout(0.5),\n",
        "                     Conv1D(64, 5, activation='relu'),\n",
        "                     MaxPooling1D(5),\n",
        "                     LSTM(100),\n",
        "                     Dense(1, activation='sigmoid')\n",
        "])\n",
        "model2.summary()"
      ],
      "metadata": {
        "colab": {
          "base_uri": "https://localhost:8080/"
        },
        "id": "JfmET5r6EcDE",
        "outputId": "b32723ab-3c65-464f-b142-47e9eb7c816f"
      },
      "execution_count": 10,
      "outputs": [
        {
          "output_type": "stream",
          "name": "stdout",
          "text": [
            "Model: \"sequential_1\"\n",
            "_________________________________________________________________\n",
            " Layer (type)                Output Shape              Param #   \n",
            "=================================================================\n",
            " embedding_1 (Embedding)     (None, 500, 100)          1000000   \n",
            "                                                                 \n",
            " dropout_1 (Dropout)         (None, 500, 100)          0         \n",
            "                                                                 \n",
            " conv1d_2 (Conv1D)           (None, 496, 64)           32064     \n",
            "                                                                 \n",
            " max_pooling1d_2 (MaxPooling  (None, 99, 64)           0         \n",
            " 1D)                                                             \n",
            "                                                                 \n",
            " lstm (LSTM)                 (None, 100)               66000     \n",
            "                                                                 \n",
            " dense_1 (Dense)             (None, 1)                 101       \n",
            "                                                                 \n",
            "=================================================================\n",
            "Total params: 1,098,165\n",
            "Trainable params: 1,098,165\n",
            "Non-trainable params: 0\n",
            "_________________________________________________________________\n"
          ]
        }
      ]
    },
    {
      "cell_type": "code",
      "source": [
        "model2.compile('adam', 'binary_crossentropy', ['accuracy'])\n",
        "model2_path = 'best-imdb-conv1d-lstm.h5'\n",
        "mc2 = ModelCheckpoint(model2_path, verbose=1, save_best_only=True)\n",
        "es2 = EarlyStopping(patience=5)"
      ],
      "metadata": {
        "id": "IBXR8qOQIDur"
      },
      "execution_count": 15,
      "outputs": []
    },
    {
      "cell_type": "code",
      "source": [
        "hist2 = model2.fit(\n",
        "    X_train, y_train, validation_split=0.2,\n",
        "    epochs=30, batch_size=64, callbacks=[mc2,es2]\n",
        ")"
      ],
      "metadata": {
        "colab": {
          "base_uri": "https://localhost:8080/"
        },
        "id": "OZiGAhePIrro",
        "outputId": "e207b8d4-d18c-4921-e041-a2d96dc5195f"
      },
      "execution_count": 16,
      "outputs": [
        {
          "output_type": "stream",
          "name": "stdout",
          "text": [
            "Epoch 1/30\n",
            "248/250 [============================>.] - ETA: 0s - loss: 0.4517 - accuracy: 0.7596\n",
            "Epoch 1: val_loss improved from inf to 0.29695, saving model to best-imdb-conv1d-lstm.h5\n",
            "250/250 [==============================] - 6s 14ms/step - loss: 0.4503 - accuracy: 0.7608 - val_loss: 0.2969 - val_accuracy: 0.8863\n",
            "Epoch 2/30\n",
            "250/250 [==============================] - ETA: 0s - loss: 0.2162 - accuracy: 0.9142\n",
            "Epoch 2: val_loss improved from 0.29695 to 0.25823, saving model to best-imdb-conv1d-lstm.h5\n",
            "250/250 [==============================] - 3s 13ms/step - loss: 0.2162 - accuracy: 0.9142 - val_loss: 0.2582 - val_accuracy: 0.8975\n",
            "Epoch 3/30\n",
            "250/250 [==============================] - ETA: 0s - loss: 0.1498 - accuracy: 0.9433\n",
            "Epoch 3: val_loss did not improve from 0.25823\n",
            "250/250 [==============================] - 3s 13ms/step - loss: 0.1498 - accuracy: 0.9433 - val_loss: 0.2799 - val_accuracy: 0.8890\n",
            "Epoch 4/30\n",
            "250/250 [==============================] - ETA: 0s - loss: 0.0936 - accuracy: 0.9674\n",
            "Epoch 4: val_loss did not improve from 0.25823\n",
            "250/250 [==============================] - 3s 13ms/step - loss: 0.0936 - accuracy: 0.9674 - val_loss: 0.3074 - val_accuracy: 0.8882\n",
            "Epoch 5/30\n",
            "248/250 [============================>.] - ETA: 0s - loss: 0.0673 - accuracy: 0.9761\n",
            "Epoch 5: val_loss did not improve from 0.25823\n",
            "250/250 [==============================] - 3s 13ms/step - loss: 0.0677 - accuracy: 0.9759 - val_loss: 0.3964 - val_accuracy: 0.8832\n",
            "Epoch 6/30\n",
            "246/250 [============================>.] - ETA: 0s - loss: 0.0602 - accuracy: 0.9806\n",
            "Epoch 6: val_loss did not improve from 0.25823\n",
            "250/250 [==============================] - 3s 13ms/step - loss: 0.0606 - accuracy: 0.9805 - val_loss: 0.4324 - val_accuracy: 0.8805\n",
            "Epoch 7/30\n",
            "247/250 [============================>.] - ETA: 0s - loss: 0.0356 - accuracy: 0.9899\n",
            "Epoch 7: val_loss did not improve from 0.25823\n",
            "250/250 [==============================] - 3s 13ms/step - loss: 0.0360 - accuracy: 0.9898 - val_loss: 0.4518 - val_accuracy: 0.8815\n"
          ]
        }
      ]
    },
    {
      "cell_type": "code",
      "source": [
        "best_model2 = load_model(model2_path)\n",
        "best_model2.evaluate(X_test, y_test)"
      ],
      "metadata": {
        "colab": {
          "base_uri": "https://localhost:8080/"
        },
        "id": "yHYG-NW0I06Q",
        "outputId": "398df40d-211d-4224-c48a-271fa551e0aa"
      },
      "execution_count": 17,
      "outputs": [
        {
          "output_type": "stream",
          "name": "stdout",
          "text": [
            "157/157 [==============================] - 1s 4ms/step - loss: 0.2718 - accuracy: 0.8904\n"
          ]
        },
        {
          "output_type": "execute_result",
          "data": {
            "text/plain": [
              "[0.27176687121391296, 0.8903999924659729]"
            ]
          },
          "metadata": {},
          "execution_count": 17
        }
      ]
    },
    {
      "cell_type": "markdown",
      "source": [
        "- Case 3) Conv1D + Dense"
      ],
      "metadata": {
        "id": "n6FNFn88HXpM"
      }
    },
    {
      "cell_type": "code",
      "source": [
        "model3 = Sequential([\n",
        "                     Embedding(num_words, 100, input_length=max_len),\n",
        "                     Dropout(0.5),\n",
        "                     Conv1D(64, 5, activation='relu'),\n",
        "                     MaxPooling1D(5),\n",
        "                     GlobalMaxPooling1D(),\n",
        "                     Dense(100, activation='relu'),\n",
        "                     Dense(1, activation='sigmoid')\n",
        "])\n",
        "model3.summary()"
      ],
      "metadata": {
        "colab": {
          "base_uri": "https://localhost:8080/"
        },
        "id": "FM-c9jypG5Aq",
        "outputId": "3b6ecf92-5391-45de-e3cd-6c4e72deec27"
      },
      "execution_count": 11,
      "outputs": [
        {
          "output_type": "stream",
          "name": "stdout",
          "text": [
            "Model: \"sequential_2\"\n",
            "_________________________________________________________________\n",
            " Layer (type)                Output Shape              Param #   \n",
            "=================================================================\n",
            " embedding_2 (Embedding)     (None, 500, 100)          1000000   \n",
            "                                                                 \n",
            " dropout_2 (Dropout)         (None, 500, 100)          0         \n",
            "                                                                 \n",
            " conv1d_3 (Conv1D)           (None, 496, 64)           32064     \n",
            "                                                                 \n",
            " max_pooling1d_3 (MaxPooling  (None, 99, 64)           0         \n",
            " 1D)                                                             \n",
            "                                                                 \n",
            " global_max_pooling1d_1 (Glo  (None, 64)               0         \n",
            " balMaxPooling1D)                                                \n",
            "                                                                 \n",
            " dense_2 (Dense)             (None, 100)               6500      \n",
            "                                                                 \n",
            " dense_3 (Dense)             (None, 1)                 101       \n",
            "                                                                 \n",
            "=================================================================\n",
            "Total params: 1,038,665\n",
            "Trainable params: 1,038,665\n",
            "Non-trainable params: 0\n",
            "_________________________________________________________________\n"
          ]
        }
      ]
    },
    {
      "cell_type": "code",
      "source": [
        "model3.compile('adam', 'binary_crossentropy', ['accuracy'])\n",
        "model3_path = 'best-imdb-conv1d-dense.h5'\n",
        "mc3 = ModelCheckpoint(model3_path, verbose=1, save_best_only=True)\n",
        "es3 = EarlyStopping(patience=5)"
      ],
      "metadata": {
        "id": "NiBIbtfwHzgz"
      },
      "execution_count": 18,
      "outputs": []
    },
    {
      "cell_type": "code",
      "source": [
        "hist3 = model3.fit(\n",
        "    X_train, y_train, validation_split=0.2,\n",
        "    epochs=30, batch_size=64, callbacks=[mc3,es3]\n",
        ")"
      ],
      "metadata": {
        "colab": {
          "base_uri": "https://localhost:8080/"
        },
        "id": "-lRJJNEcIYZR",
        "outputId": "a882a307-b36b-48cd-b5bb-6226357c8113"
      },
      "execution_count": 19,
      "outputs": [
        {
          "output_type": "stream",
          "name": "stdout",
          "text": [
            "Epoch 1/30\n",
            "243/250 [============================>.] - ETA: 0s - loss: 0.5828 - accuracy: 0.6576\n",
            "Epoch 1: val_loss improved from inf to 0.38874, saving model to best-imdb-conv1d-dense.h5\n",
            "250/250 [==============================] - 3s 9ms/step - loss: 0.5772 - accuracy: 0.6622 - val_loss: 0.3887 - val_accuracy: 0.8275\n",
            "Epoch 2/30\n",
            "243/250 [============================>.] - ETA: 0s - loss: 0.3119 - accuracy: 0.8691\n",
            "Epoch 2: val_loss improved from 0.38874 to 0.29926, saving model to best-imdb-conv1d-dense.h5\n",
            "250/250 [==============================] - 2s 7ms/step - loss: 0.3117 - accuracy: 0.8698 - val_loss: 0.2993 - val_accuracy: 0.8830\n",
            "Epoch 3/30\n",
            "248/250 [============================>.] - ETA: 0s - loss: 0.2078 - accuracy: 0.9206\n",
            "Epoch 3: val_loss improved from 0.29926 to 0.28892, saving model to best-imdb-conv1d-dense.h5\n",
            "250/250 [==============================] - 2s 7ms/step - loss: 0.2080 - accuracy: 0.9206 - val_loss: 0.2889 - val_accuracy: 0.8842\n",
            "Epoch 4/30\n",
            "247/250 [============================>.] - ETA: 0s - loss: 0.1354 - accuracy: 0.9493\n",
            "Epoch 4: val_loss did not improve from 0.28892\n",
            "250/250 [==============================] - 2s 7ms/step - loss: 0.1360 - accuracy: 0.9489 - val_loss: 0.3061 - val_accuracy: 0.8875\n",
            "Epoch 5/30\n",
            "245/250 [============================>.] - ETA: 0s - loss: 0.0933 - accuracy: 0.9666\n",
            "Epoch 5: val_loss did not improve from 0.28892\n",
            "250/250 [==============================] - 2s 7ms/step - loss: 0.0936 - accuracy: 0.9664 - val_loss: 0.3307 - val_accuracy: 0.8917\n",
            "Epoch 6/30\n",
            "247/250 [============================>.] - ETA: 0s - loss: 0.0637 - accuracy: 0.9791\n",
            "Epoch 6: val_loss did not improve from 0.28892\n",
            "250/250 [==============================] - 2s 7ms/step - loss: 0.0637 - accuracy: 0.9789 - val_loss: 0.3636 - val_accuracy: 0.8850\n",
            "Epoch 7/30\n",
            "247/250 [============================>.] - ETA: 0s - loss: 0.0415 - accuracy: 0.9865\n",
            "Epoch 7: val_loss did not improve from 0.28892\n",
            "250/250 [==============================] - 2s 7ms/step - loss: 0.0419 - accuracy: 0.9864 - val_loss: 0.4221 - val_accuracy: 0.8827\n",
            "Epoch 8/30\n",
            "250/250 [==============================] - ETA: 0s - loss: 0.0318 - accuracy: 0.9894\n",
            "Epoch 8: val_loss did not improve from 0.28892\n",
            "250/250 [==============================] - 2s 7ms/step - loss: 0.0318 - accuracy: 0.9894 - val_loss: 0.4504 - val_accuracy: 0.8840\n"
          ]
        }
      ]
    },
    {
      "cell_type": "code",
      "source": [
        "best_model3 = load_model(model3_path)\n",
        "best_model3.evaluate(X_test, y_test)"
      ],
      "metadata": {
        "colab": {
          "base_uri": "https://localhost:8080/"
        },
        "id": "H4Mq0e9NIYRW",
        "outputId": "960d59cf-ebef-4833-a71c-6bacd52ac9ef"
      },
      "execution_count": 20,
      "outputs": [
        {
          "output_type": "stream",
          "name": "stdout",
          "text": [
            "157/157 [==============================] - 1s 3ms/step - loss: 0.2822 - accuracy: 0.8866\n"
          ]
        },
        {
          "output_type": "execute_result",
          "data": {
            "text/plain": [
              "[0.28215670585632324, 0.8866000175476074]"
            ]
          },
          "metadata": {},
          "execution_count": 20
        }
      ]
    },
    {
      "cell_type": "code",
      "source": [
        ""
      ],
      "metadata": {
        "id": "xm8bSP4CJIa8"
      },
      "execution_count": null,
      "outputs": []
    }
  ]
}