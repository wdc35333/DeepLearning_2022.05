{
  "cells": [
    {
      "cell_type": "markdown",
      "metadata": {
        "id": "hSQYq6IaeZUl"
      },
      "source": [
        "# 오차 역전파(Back Propagation)"
      ]
    },
    {
      "cell_type": "code",
      "execution_count": null,
      "metadata": {
        "id": "Gke9AUHjhKjS"
      },
      "outputs": [],
      "source": [
        "import numpy as np\n",
        "import matplotlib.pyplot as plt"
      ]
    },
    {
      "cell_type": "code",
      "execution_count": null,
      "metadata": {
        "id": "ZRE7qx1uhND9"
      },
      "outputs": [],
      "source": [
        "# train data (XOR Problem)\n",
        "x = np.array([[0,0],[0,1],[1,0],[1,1]])\n",
        "y = np.array([0,1,1,0])"
      ]
    },
    {
      "cell_type": "markdown",
      "metadata": {
        "id": "VdtPIfvXhP_Z"
      },
      "source": [
        "- Intialization"
      ]
    },
    {
      "cell_type": "code",
      "execution_count": null,
      "metadata": {
        "id": "tDC0TCijeVzj"
      },
      "outputs": [],
      "source": [
        "np.random.seed(2022)\n",
        "\n",
        "# input - hidden layer\n",
        "w1 = np.random.randn(2,2)\n",
        "b1 = np.random.randn(1,2)\n",
        "\n",
        "# hidden - output layer\n",
        "w2 = np.random.randn(1,2)\n",
        "b2 = np.random.randn(1)\n",
        "\n",
        "# epoch\n",
        "ep = 30001\n",
        "\n",
        "# learning rate\n",
        "lr = 1\n",
        "mse = []"
      ]
    },
    {
      "cell_type": "code",
      "execution_count": null,
      "metadata": {
        "id": "b_tzVoCdhp1K"
      },
      "outputs": [],
      "source": [
        "w1"
      ]
    },
    {
      "cell_type": "markdown",
      "metadata": {
        "id": "-hf5MtLnepwf"
      },
      "source": [
        "- 신경망 학습"
      ]
    },
    {
      "cell_type": "code",
      "execution_count": null,
      "metadata": {
        "id": "08gyl2nrekan"
      },
      "outputs": [],
      "source": [
        "# Neural Networks 2-2-1\n",
        "for i in range(ep):\n",
        "    E, result  = np.array([]), np.array([])\n",
        "    \n",
        "    for j in range(len(x)):\n",
        "        Ha = np.array([])\n",
        "        \n",
        "        # Feedforward\n",
        "        # input - hidden layer\n",
        "        for k in range(len(w1)):\n",
        "            Ha = np.append(Ha, 1 / (1 + np.exp(-(np.sum(x[j] * w1[k]) + b1[0][k])))) \n",
        "\n",
        "        # hidden - output layer\n",
        "        Hb = 1 / (1 + np.exp(-(np.sum(Ha * w2) + b2)))\n",
        "        result = np.append(result, Hb)\n",
        "        \n",
        "        # error\n",
        "        E = np.append(E, y[j] - Hb)\n",
        "        \n",
        "        # Back-propagation\n",
        "        # output - hidden layer\n",
        "        alpha_2 = E[j] * Hb * (1 - Hb)\n",
        "        \n",
        "        # hidden - input layer\n",
        "        alpha_1 = alpha_2 * Ha * (1 - Ha) * w2\n",
        "        \n",
        "        # update\n",
        "        w2 = w2 + lr * alpha_2 * Ha\n",
        "        b2 = b2 + lr * alpha_2\n",
        "        \n",
        "        w1 = w1 + np.ones((2,2)) * lr * alpha_1 * x[j]\n",
        "        b1 = b1 + lr * alpha_1\n",
        "\n",
        "    if i % 1000 == 0:    \n",
        "        print('Epoch: %05d MSE: %04f Results: 0 0 => %04f 0 1 => %04f 1 0 => %04f 1 1 => %04f'\n",
        "              %(i, np.mean(E**2), result[0], result[1], result[2], result[3]))   \n",
        "    mse.append(np.mean(E**2))"
      ]
    },
    {
      "cell_type": "code",
      "execution_count": null,
      "metadata": {
        "id": "1mLu25dne9Ii"
      },
      "outputs": [],
      "source": [
        "w1"
      ]
    },
    {
      "cell_type": "code",
      "execution_count": null,
      "metadata": {
        "id": "2osjaaTtg-qD"
      },
      "outputs": [],
      "source": [
        "w2"
      ]
    },
    {
      "cell_type": "code",
      "execution_count": null,
      "metadata": {
        "id": "F76xrzq3hAPn"
      },
      "outputs": [],
      "source": [
        "b1"
      ]
    },
    {
      "cell_type": "code",
      "execution_count": null,
      "metadata": {
        "id": "59XhirTkhBzD"
      },
      "outputs": [],
      "source": [
        "b2"
      ]
    },
    {
      "cell_type": "markdown",
      "metadata": {
        "id": "txvhzCJJsFdP"
      },
      "source": [
        "- 검증"
      ]
    },
    {
      "cell_type": "code",
      "execution_count": null,
      "metadata": {
        "id": "Y2ba6QV6moRg"
      },
      "outputs": [],
      "source": [
        "for j in range(len(x)):\n",
        "    Ha = np.array([])\n",
        "    \n",
        "    # feedforward\n",
        "    # input - hidden layer\n",
        "    for k in range(len(w1)):\n",
        "        Ha = np.append(Ha, 1 / (1 + np.exp(-(np.sum(x[j] * w1[k]) + b1[0][k]))))\n",
        "    \n",
        "    # hidden - output layer\n",
        "    Hb = 1 / (1 + np.exp(-(np.sum(Ha * w2) + b2)))\n",
        "    print(x[j], Hb[0])"
      ]
    },
    {
      "cell_type": "markdown",
      "metadata": {
        "id": "jFJzLiV3qdrc"
      },
      "source": [
        "- MSE 그래프"
      ]
    },
    {
      "cell_type": "code",
      "execution_count": null,
      "metadata": {
        "id": "qJ6RQ4DvqgOz"
      },
      "outputs": [],
      "source": [
        "plt.xlabel('Epoch')\n",
        "plt.ylabel('MSE')\n",
        "plt.title('MLP Training')\n",
        "plt.plot(mse)\n",
        "plt.show()"
      ]
    }
  ],
  "metadata": {
    "colab": {
      "name": "07_오차역전파.ipynb",
      "provenance": []
    },
    "kernelspec": {
      "display_name": "Python 3",
      "name": "python3"
    },
    "language_info": {
      "name": "python"
    }
  },
  "nbformat": 4,
  "nbformat_minor": 0
}
