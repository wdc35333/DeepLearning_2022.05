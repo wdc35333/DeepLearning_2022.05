{
  "nbformat": 4,
  "nbformat_minor": 0,
  "metadata": {
    "colab": {
      "name": "01_신경망모델.ipynb",
      "provenance": []
    },
    "kernelspec": {
      "name": "python3",
      "display_name": "Python 3"
    },
    "language_info": {
      "name": "python"
    }
  },
  "cells": [
    {
      "cell_type": "markdown",
      "source": [
        "# 신경망 모델\n",
        "### - 이진 분류: 유방암 예측 사례"
      ],
      "metadata": {
        "id": "DIMMN0QKA4BY"
      }
    },
    {
      "cell_type": "code",
      "execution_count": 21,
      "metadata": {
        "id": "k_snaqr6A0Mg"
      },
      "outputs": [],
      "source": [
        "import numpy as np\n",
        "import pandas as pd\n",
        "import matplotlib.pyplot as plt"
      ]
    },
    {
      "cell_type": "markdown",
      "source": [
        "- 데이터 준비"
      ],
      "metadata": {
        "id": "UZytgQITDdZh"
      }
    },
    {
      "cell_type": "code",
      "source": [
        "from sklearn.datasets import load_breast_cancer\n",
        "cancer = load_breast_cancer()\n",
        "df = pd.DataFrame(cancer.data, columns = cancer.feature_names)\n",
        "df['target'] = cancer.target\n",
        "df.head()"
      ],
      "metadata": {
        "colab": {
          "base_uri": "https://localhost:8080/",
          "height": 314
        },
        "id": "pwnU33X4DWk_",
        "outputId": "49e40a06-f3ca-44c7-fe6e-dd42a9ca39ff"
      },
      "execution_count": 22,
      "outputs": [
        {
          "output_type": "execute_result",
          "data": {
            "text/plain": [
              "   mean radius  mean texture  mean perimeter  mean area  mean smoothness  \\\n",
              "0        17.99         10.38          122.80     1001.0          0.11840   \n",
              "1        20.57         17.77          132.90     1326.0          0.08474   \n",
              "2        19.69         21.25          130.00     1203.0          0.10960   \n",
              "3        11.42         20.38           77.58      386.1          0.14250   \n",
              "4        20.29         14.34          135.10     1297.0          0.10030   \n",
              "\n",
              "   mean compactness  mean concavity  mean concave points  mean symmetry  \\\n",
              "0           0.27760          0.3001              0.14710         0.2419   \n",
              "1           0.07864          0.0869              0.07017         0.1812   \n",
              "2           0.15990          0.1974              0.12790         0.2069   \n",
              "3           0.28390          0.2414              0.10520         0.2597   \n",
              "4           0.13280          0.1980              0.10430         0.1809   \n",
              "\n",
              "   mean fractal dimension  ...  worst texture  worst perimeter  worst area  \\\n",
              "0                 0.07871  ...          17.33           184.60      2019.0   \n",
              "1                 0.05667  ...          23.41           158.80      1956.0   \n",
              "2                 0.05999  ...          25.53           152.50      1709.0   \n",
              "3                 0.09744  ...          26.50            98.87       567.7   \n",
              "4                 0.05883  ...          16.67           152.20      1575.0   \n",
              "\n",
              "   worst smoothness  worst compactness  worst concavity  worst concave points  \\\n",
              "0            0.1622             0.6656           0.7119                0.2654   \n",
              "1            0.1238             0.1866           0.2416                0.1860   \n",
              "2            0.1444             0.4245           0.4504                0.2430   \n",
              "3            0.2098             0.8663           0.6869                0.2575   \n",
              "4            0.1374             0.2050           0.4000                0.1625   \n",
              "\n",
              "   worst symmetry  worst fractal dimension  target  \n",
              "0          0.4601                  0.11890       0  \n",
              "1          0.2750                  0.08902       0  \n",
              "2          0.3613                  0.08758       0  \n",
              "3          0.6638                  0.17300       0  \n",
              "4          0.2364                  0.07678       0  \n",
              "\n",
              "[5 rows x 31 columns]"
            ],
            "text/html": [
              "\n",
              "  <div id=\"df-b60daa46-cc8f-40b9-a8fb-b8607dad0355\">\n",
              "    <div class=\"colab-df-container\">\n",
              "      <div>\n",
              "<style scoped>\n",
              "    .dataframe tbody tr th:only-of-type {\n",
              "        vertical-align: middle;\n",
              "    }\n",
              "\n",
              "    .dataframe tbody tr th {\n",
              "        vertical-align: top;\n",
              "    }\n",
              "\n",
              "    .dataframe thead th {\n",
              "        text-align: right;\n",
              "    }\n",
              "</style>\n",
              "<table border=\"1\" class=\"dataframe\">\n",
              "  <thead>\n",
              "    <tr style=\"text-align: right;\">\n",
              "      <th></th>\n",
              "      <th>mean radius</th>\n",
              "      <th>mean texture</th>\n",
              "      <th>mean perimeter</th>\n",
              "      <th>mean area</th>\n",
              "      <th>mean smoothness</th>\n",
              "      <th>mean compactness</th>\n",
              "      <th>mean concavity</th>\n",
              "      <th>mean concave points</th>\n",
              "      <th>mean symmetry</th>\n",
              "      <th>mean fractal dimension</th>\n",
              "      <th>...</th>\n",
              "      <th>worst texture</th>\n",
              "      <th>worst perimeter</th>\n",
              "      <th>worst area</th>\n",
              "      <th>worst smoothness</th>\n",
              "      <th>worst compactness</th>\n",
              "      <th>worst concavity</th>\n",
              "      <th>worst concave points</th>\n",
              "      <th>worst symmetry</th>\n",
              "      <th>worst fractal dimension</th>\n",
              "      <th>target</th>\n",
              "    </tr>\n",
              "  </thead>\n",
              "  <tbody>\n",
              "    <tr>\n",
              "      <th>0</th>\n",
              "      <td>17.99</td>\n",
              "      <td>10.38</td>\n",
              "      <td>122.80</td>\n",
              "      <td>1001.0</td>\n",
              "      <td>0.11840</td>\n",
              "      <td>0.27760</td>\n",
              "      <td>0.3001</td>\n",
              "      <td>0.14710</td>\n",
              "      <td>0.2419</td>\n",
              "      <td>0.07871</td>\n",
              "      <td>...</td>\n",
              "      <td>17.33</td>\n",
              "      <td>184.60</td>\n",
              "      <td>2019.0</td>\n",
              "      <td>0.1622</td>\n",
              "      <td>0.6656</td>\n",
              "      <td>0.7119</td>\n",
              "      <td>0.2654</td>\n",
              "      <td>0.4601</td>\n",
              "      <td>0.11890</td>\n",
              "      <td>0</td>\n",
              "    </tr>\n",
              "    <tr>\n",
              "      <th>1</th>\n",
              "      <td>20.57</td>\n",
              "      <td>17.77</td>\n",
              "      <td>132.90</td>\n",
              "      <td>1326.0</td>\n",
              "      <td>0.08474</td>\n",
              "      <td>0.07864</td>\n",
              "      <td>0.0869</td>\n",
              "      <td>0.07017</td>\n",
              "      <td>0.1812</td>\n",
              "      <td>0.05667</td>\n",
              "      <td>...</td>\n",
              "      <td>23.41</td>\n",
              "      <td>158.80</td>\n",
              "      <td>1956.0</td>\n",
              "      <td>0.1238</td>\n",
              "      <td>0.1866</td>\n",
              "      <td>0.2416</td>\n",
              "      <td>0.1860</td>\n",
              "      <td>0.2750</td>\n",
              "      <td>0.08902</td>\n",
              "      <td>0</td>\n",
              "    </tr>\n",
              "    <tr>\n",
              "      <th>2</th>\n",
              "      <td>19.69</td>\n",
              "      <td>21.25</td>\n",
              "      <td>130.00</td>\n",
              "      <td>1203.0</td>\n",
              "      <td>0.10960</td>\n",
              "      <td>0.15990</td>\n",
              "      <td>0.1974</td>\n",
              "      <td>0.12790</td>\n",
              "      <td>0.2069</td>\n",
              "      <td>0.05999</td>\n",
              "      <td>...</td>\n",
              "      <td>25.53</td>\n",
              "      <td>152.50</td>\n",
              "      <td>1709.0</td>\n",
              "      <td>0.1444</td>\n",
              "      <td>0.4245</td>\n",
              "      <td>0.4504</td>\n",
              "      <td>0.2430</td>\n",
              "      <td>0.3613</td>\n",
              "      <td>0.08758</td>\n",
              "      <td>0</td>\n",
              "    </tr>\n",
              "    <tr>\n",
              "      <th>3</th>\n",
              "      <td>11.42</td>\n",
              "      <td>20.38</td>\n",
              "      <td>77.58</td>\n",
              "      <td>386.1</td>\n",
              "      <td>0.14250</td>\n",
              "      <td>0.28390</td>\n",
              "      <td>0.2414</td>\n",
              "      <td>0.10520</td>\n",
              "      <td>0.2597</td>\n",
              "      <td>0.09744</td>\n",
              "      <td>...</td>\n",
              "      <td>26.50</td>\n",
              "      <td>98.87</td>\n",
              "      <td>567.7</td>\n",
              "      <td>0.2098</td>\n",
              "      <td>0.8663</td>\n",
              "      <td>0.6869</td>\n",
              "      <td>0.2575</td>\n",
              "      <td>0.6638</td>\n",
              "      <td>0.17300</td>\n",
              "      <td>0</td>\n",
              "    </tr>\n",
              "    <tr>\n",
              "      <th>4</th>\n",
              "      <td>20.29</td>\n",
              "      <td>14.34</td>\n",
              "      <td>135.10</td>\n",
              "      <td>1297.0</td>\n",
              "      <td>0.10030</td>\n",
              "      <td>0.13280</td>\n",
              "      <td>0.1980</td>\n",
              "      <td>0.10430</td>\n",
              "      <td>0.1809</td>\n",
              "      <td>0.05883</td>\n",
              "      <td>...</td>\n",
              "      <td>16.67</td>\n",
              "      <td>152.20</td>\n",
              "      <td>1575.0</td>\n",
              "      <td>0.1374</td>\n",
              "      <td>0.2050</td>\n",
              "      <td>0.4000</td>\n",
              "      <td>0.1625</td>\n",
              "      <td>0.2364</td>\n",
              "      <td>0.07678</td>\n",
              "      <td>0</td>\n",
              "    </tr>\n",
              "  </tbody>\n",
              "</table>\n",
              "<p>5 rows × 31 columns</p>\n",
              "</div>\n",
              "      <button class=\"colab-df-convert\" onclick=\"convertToInteractive('df-b60daa46-cc8f-40b9-a8fb-b8607dad0355')\"\n",
              "              title=\"Convert this dataframe to an interactive table.\"\n",
              "              style=\"display:none;\">\n",
              "        \n",
              "  <svg xmlns=\"http://www.w3.org/2000/svg\" height=\"24px\"viewBox=\"0 0 24 24\"\n",
              "       width=\"24px\">\n",
              "    <path d=\"M0 0h24v24H0V0z\" fill=\"none\"/>\n",
              "    <path d=\"M18.56 5.44l.94 2.06.94-2.06 2.06-.94-2.06-.94-.94-2.06-.94 2.06-2.06.94zm-11 1L8.5 8.5l.94-2.06 2.06-.94-2.06-.94L8.5 2.5l-.94 2.06-2.06.94zm10 10l.94 2.06.94-2.06 2.06-.94-2.06-.94-.94-2.06-.94 2.06-2.06.94z\"/><path d=\"M17.41 7.96l-1.37-1.37c-.4-.4-.92-.59-1.43-.59-.52 0-1.04.2-1.43.59L10.3 9.45l-7.72 7.72c-.78.78-.78 2.05 0 2.83L4 21.41c.39.39.9.59 1.41.59.51 0 1.02-.2 1.41-.59l7.78-7.78 2.81-2.81c.8-.78.8-2.07 0-2.86zM5.41 20L4 18.59l7.72-7.72 1.47 1.35L5.41 20z\"/>\n",
              "  </svg>\n",
              "      </button>\n",
              "      \n",
              "  <style>\n",
              "    .colab-df-container {\n",
              "      display:flex;\n",
              "      flex-wrap:wrap;\n",
              "      gap: 12px;\n",
              "    }\n",
              "\n",
              "    .colab-df-convert {\n",
              "      background-color: #E8F0FE;\n",
              "      border: none;\n",
              "      border-radius: 50%;\n",
              "      cursor: pointer;\n",
              "      display: none;\n",
              "      fill: #1967D2;\n",
              "      height: 32px;\n",
              "      padding: 0 0 0 0;\n",
              "      width: 32px;\n",
              "    }\n",
              "\n",
              "    .colab-df-convert:hover {\n",
              "      background-color: #E2EBFA;\n",
              "      box-shadow: 0px 1px 2px rgba(60, 64, 67, 0.3), 0px 1px 3px 1px rgba(60, 64, 67, 0.15);\n",
              "      fill: #174EA6;\n",
              "    }\n",
              "\n",
              "    [theme=dark] .colab-df-convert {\n",
              "      background-color: #3B4455;\n",
              "      fill: #D2E3FC;\n",
              "    }\n",
              "\n",
              "    [theme=dark] .colab-df-convert:hover {\n",
              "      background-color: #434B5C;\n",
              "      box-shadow: 0px 1px 3px 1px rgba(0, 0, 0, 0.15);\n",
              "      filter: drop-shadow(0px 1px 2px rgba(0, 0, 0, 0.3));\n",
              "      fill: #FFFFFF;\n",
              "    }\n",
              "  </style>\n",
              "\n",
              "      <script>\n",
              "        const buttonEl =\n",
              "          document.querySelector('#df-b60daa46-cc8f-40b9-a8fb-b8607dad0355 button.colab-df-convert');\n",
              "        buttonEl.style.display =\n",
              "          google.colab.kernel.accessAllowed ? 'block' : 'none';\n",
              "\n",
              "        async function convertToInteractive(key) {\n",
              "          const element = document.querySelector('#df-b60daa46-cc8f-40b9-a8fb-b8607dad0355');\n",
              "          const dataTable =\n",
              "            await google.colab.kernel.invokeFunction('convertToInteractive',\n",
              "                                                     [key], {});\n",
              "          if (!dataTable) return;\n",
              "\n",
              "          const docLinkHtml = 'Like what you see? Visit the ' +\n",
              "            '<a target=\"_blank\" href=https://colab.research.google.com/notebooks/data_table.ipynb>data table notebook</a>'\n",
              "            + ' to learn more about interactive tables.';\n",
              "          element.innerHTML = '';\n",
              "          dataTable['output_type'] = 'display_data';\n",
              "          await google.colab.output.renderOutput(dataTable, element);\n",
              "          const docLink = document.createElement('div');\n",
              "          docLink.innerHTML = docLinkHtml;\n",
              "          element.appendChild(docLink);\n",
              "        }\n",
              "      </script>\n",
              "    </div>\n",
              "  </div>\n",
              "  "
            ]
          },
          "metadata": {},
          "execution_count": 22
        }
      ]
    },
    {
      "cell_type": "code",
      "source": [
        "df.shape"
      ],
      "metadata": {
        "colab": {
          "base_uri": "https://localhost:8080/"
        },
        "id": "R51-nt0QDi1A",
        "outputId": "ff011dd5-5b43-446d-e2e5-98e37c5005f0"
      },
      "execution_count": 23,
      "outputs": [
        {
          "output_type": "execute_result",
          "data": {
            "text/plain": [
              "(569, 31)"
            ]
          },
          "metadata": {},
          "execution_count": 23
        }
      ]
    },
    {
      "cell_type": "markdown",
      "source": [
        "### 1. 데이터를 정규/표준화 하지 않은 경우"
      ],
      "metadata": {
        "id": "jY_7CK5lEEla"
      }
    },
    {
      "cell_type": "code",
      "source": [
        "from sklearn.model_selection import train_test_split\n",
        "X_train, X_test, y_train, y_test = train_test_split(\n",
        "    cancer.data, cancer.target, stratify = cancer.target,\n",
        "    test_size = 0.2, random_state = 2022\n",
        ")"
      ],
      "metadata": {
        "id": "UgMN8nPFECLJ"
      },
      "execution_count": 40,
      "outputs": []
    },
    {
      "cell_type": "markdown",
      "source": [
        "- 모델 정의"
      ],
      "metadata": {
        "id": "5SddzRijFBBL"
      }
    },
    {
      "cell_type": "code",
      "source": [
        "from tensorflow.keras.models import Sequential\n",
        "from tensorflow.keras.layers import Dense           # Fully Connected Network"
      ],
      "metadata": {
        "id": "WjVGoI4lEjpu"
      },
      "execution_count": 41,
      "outputs": []
    },
    {
      "cell_type": "code",
      "source": [
        "model = Sequential([\n",
        "                    Dense(100, input_shape=(30, ), activation='relu'),\n",
        "                    Dense(24, activation='relu'),\n",
        "                    Dense(1, activation='sigmoid')\n",
        "])\n",
        "model.summary()"
      ],
      "metadata": {
        "colab": {
          "base_uri": "https://localhost:8080/"
        },
        "id": "gEMs4KzbFWpJ",
        "outputId": "a62a7824-85d6-4063-e907-d4a4fda445de"
      },
      "execution_count": 42,
      "outputs": [
        {
          "output_type": "stream",
          "name": "stdout",
          "text": [
            "Model: \"sequential_4\"\n",
            "_________________________________________________________________\n",
            " Layer (type)                Output Shape              Param #   \n",
            "=================================================================\n",
            " dense_12 (Dense)            (None, 100)               3100      \n",
            "                                                                 \n",
            " dense_13 (Dense)            (None, 24)                2424      \n",
            "                                                                 \n",
            " dense_14 (Dense)            (None, 1)                 25        \n",
            "                                                                 \n",
            "=================================================================\n",
            "Total params: 5,549\n",
            "Trainable params: 5,549\n",
            "Non-trainable params: 0\n",
            "_________________________________________________________________\n"
          ]
        }
      ]
    },
    {
      "cell_type": "markdown",
      "source": [
        "- 모델 설정(컴파일)"
      ],
      "metadata": {
        "id": "gFpzwsjXGxmO"
      }
    },
    {
      "cell_type": "code",
      "source": [
        "model.compile(optimizer='adam', loss = 'binary_crossentropy', metrics=['accuracy'])"
      ],
      "metadata": {
        "id": "4Dsqx6bRGOzy"
      },
      "execution_count": 43,
      "outputs": []
    },
    {
      "cell_type": "markdown",
      "source": [
        "- 모델 학습"
      ],
      "metadata": {
        "id": "wblZOJ6uHP75"
      }
    },
    {
      "cell_type": "code",
      "source": [
        "history = model.fit(X_train, y_train, validation_split=0.2, \n",
        "                    epochs=100, batch_size=100)"
      ],
      "metadata": {
        "colab": {
          "base_uri": "https://localhost:8080/"
        },
        "id": "YcHn9cXuHMju",
        "outputId": "5745a518-2ced-4ed7-ba9f-38d8dd877110"
      },
      "execution_count": 44,
      "outputs": [
        {
          "output_type": "stream",
          "name": "stdout",
          "text": [
            "Epoch 1/100\n",
            "4/4 [==============================] - 1s 98ms/step - loss: 98.7314 - accuracy: 0.3791 - val_loss: 78.2000 - val_accuracy: 0.3516\n",
            "Epoch 2/100\n",
            "4/4 [==============================] - 0s 15ms/step - loss: 61.5868 - accuracy: 0.3791 - val_loss: 39.3081 - val_accuracy: 0.3516\n",
            "Epoch 3/100\n",
            "4/4 [==============================] - 0s 14ms/step - loss: 25.5111 - accuracy: 0.3791 - val_loss: 4.5108 - val_accuracy: 0.3516\n",
            "Epoch 4/100\n",
            "4/4 [==============================] - 0s 15ms/step - loss: 6.1183 - accuracy: 0.5769 - val_loss: 13.7408 - val_accuracy: 0.6484\n",
            "Epoch 5/100\n",
            "4/4 [==============================] - 0s 16ms/step - loss: 13.9125 - accuracy: 0.6209 - val_loss: 5.9965 - val_accuracy: 0.6593\n",
            "Epoch 6/100\n",
            "4/4 [==============================] - 0s 16ms/step - loss: 2.7334 - accuracy: 0.7390 - val_loss: 3.4322 - val_accuracy: 0.4286\n",
            "Epoch 7/100\n",
            "4/4 [==============================] - 0s 15ms/step - loss: 4.7831 - accuracy: 0.4148 - val_loss: 5.2421 - val_accuracy: 0.3626\n",
            "Epoch 8/100\n",
            "4/4 [==============================] - 0s 16ms/step - loss: 3.2401 - accuracy: 0.5467 - val_loss: 0.3269 - val_accuracy: 0.9341\n",
            "Epoch 9/100\n",
            "4/4 [==============================] - 0s 16ms/step - loss: 0.7193 - accuracy: 0.8764 - val_loss: 1.5736 - val_accuracy: 0.7912\n",
            "Epoch 10/100\n",
            "4/4 [==============================] - 0s 15ms/step - loss: 1.7180 - accuracy: 0.8132 - val_loss: 0.6270 - val_accuracy: 0.9121\n",
            "Epoch 11/100\n",
            "4/4 [==============================] - 0s 16ms/step - loss: 0.5769 - accuracy: 0.8874 - val_loss: 0.5057 - val_accuracy: 0.8571\n",
            "Epoch 12/100\n",
            "4/4 [==============================] - 0s 16ms/step - loss: 0.7329 - accuracy: 0.8159 - val_loss: 0.6870 - val_accuracy: 0.8022\n",
            "Epoch 13/100\n",
            "4/4 [==============================] - 0s 15ms/step - loss: 0.5162 - accuracy: 0.8544 - val_loss: 0.3765 - val_accuracy: 0.9231\n",
            "Epoch 14/100\n",
            "4/4 [==============================] - 0s 16ms/step - loss: 0.4171 - accuracy: 0.9176 - val_loss: 0.4619 - val_accuracy: 0.9231\n",
            "Epoch 15/100\n",
            "4/4 [==============================] - 0s 18ms/step - loss: 0.5066 - accuracy: 0.9176 - val_loss: 0.3856 - val_accuracy: 0.9231\n",
            "Epoch 16/100\n",
            "4/4 [==============================] - 0s 14ms/step - loss: 0.3074 - accuracy: 0.9038 - val_loss: 0.3702 - val_accuracy: 0.9231\n",
            "Epoch 17/100\n",
            "4/4 [==============================] - 0s 16ms/step - loss: 0.3770 - accuracy: 0.8984 - val_loss: 0.3707 - val_accuracy: 0.9231\n",
            "Epoch 18/100\n",
            "4/4 [==============================] - 0s 16ms/step - loss: 0.3020 - accuracy: 0.9093 - val_loss: 0.3721 - val_accuracy: 0.9231\n",
            "Epoch 19/100\n",
            "4/4 [==============================] - 0s 15ms/step - loss: 0.3399 - accuracy: 0.9231 - val_loss: 0.3900 - val_accuracy: 0.9231\n",
            "Epoch 20/100\n",
            "4/4 [==============================] - 0s 15ms/step - loss: 0.3350 - accuracy: 0.9176 - val_loss: 0.3564 - val_accuracy: 0.9121\n",
            "Epoch 21/100\n",
            "4/4 [==============================] - 0s 22ms/step - loss: 0.3092 - accuracy: 0.9066 - val_loss: 0.3561 - val_accuracy: 0.9121\n",
            "Epoch 22/100\n",
            "4/4 [==============================] - 0s 15ms/step - loss: 0.2900 - accuracy: 0.9148 - val_loss: 0.3578 - val_accuracy: 0.9121\n",
            "Epoch 23/100\n",
            "4/4 [==============================] - 0s 14ms/step - loss: 0.2915 - accuracy: 0.9203 - val_loss: 0.3605 - val_accuracy: 0.9231\n",
            "Epoch 24/100\n",
            "4/4 [==============================] - 0s 17ms/step - loss: 0.2838 - accuracy: 0.9258 - val_loss: 0.3487 - val_accuracy: 0.9121\n",
            "Epoch 25/100\n",
            "4/4 [==============================] - 0s 15ms/step - loss: 0.2847 - accuracy: 0.9066 - val_loss: 0.3466 - val_accuracy: 0.9121\n",
            "Epoch 26/100\n",
            "4/4 [==============================] - 0s 16ms/step - loss: 0.2814 - accuracy: 0.9121 - val_loss: 0.3427 - val_accuracy: 0.9121\n",
            "Epoch 27/100\n",
            "4/4 [==============================] - 0s 17ms/step - loss: 0.2841 - accuracy: 0.9148 - val_loss: 0.3513 - val_accuracy: 0.9231\n",
            "Epoch 28/100\n",
            "4/4 [==============================] - 0s 15ms/step - loss: 0.2761 - accuracy: 0.9203 - val_loss: 0.3408 - val_accuracy: 0.9121\n",
            "Epoch 29/100\n",
            "4/4 [==============================] - 0s 16ms/step - loss: 0.2704 - accuracy: 0.9093 - val_loss: 0.3389 - val_accuracy: 0.9121\n",
            "Epoch 30/100\n",
            "4/4 [==============================] - 0s 17ms/step - loss: 0.2799 - accuracy: 0.9148 - val_loss: 0.3400 - val_accuracy: 0.9121\n",
            "Epoch 31/100\n",
            "4/4 [==============================] - 0s 18ms/step - loss: 0.2661 - accuracy: 0.9148 - val_loss: 0.3345 - val_accuracy: 0.9121\n",
            "Epoch 32/100\n",
            "4/4 [==============================] - 0s 15ms/step - loss: 0.2649 - accuracy: 0.9093 - val_loss: 0.3306 - val_accuracy: 0.9121\n",
            "Epoch 33/100\n",
            "4/4 [==============================] - 0s 15ms/step - loss: 0.2557 - accuracy: 0.9176 - val_loss: 0.3277 - val_accuracy: 0.9121\n",
            "Epoch 34/100\n",
            "4/4 [==============================] - 0s 17ms/step - loss: 0.2533 - accuracy: 0.9176 - val_loss: 0.3265 - val_accuracy: 0.9121\n",
            "Epoch 35/100\n",
            "4/4 [==============================] - 0s 19ms/step - loss: 0.2557 - accuracy: 0.9121 - val_loss: 0.3251 - val_accuracy: 0.9121\n",
            "Epoch 36/100\n",
            "4/4 [==============================] - 0s 14ms/step - loss: 0.2456 - accuracy: 0.9176 - val_loss: 0.3218 - val_accuracy: 0.9121\n",
            "Epoch 37/100\n",
            "4/4 [==============================] - 0s 20ms/step - loss: 0.2449 - accuracy: 0.9121 - val_loss: 0.3190 - val_accuracy: 0.9121\n",
            "Epoch 38/100\n",
            "4/4 [==============================] - 0s 17ms/step - loss: 0.2484 - accuracy: 0.9203 - val_loss: 0.3203 - val_accuracy: 0.9121\n",
            "Epoch 39/100\n",
            "4/4 [==============================] - 0s 22ms/step - loss: 0.2324 - accuracy: 0.9258 - val_loss: 0.3179 - val_accuracy: 0.9121\n",
            "Epoch 40/100\n",
            "4/4 [==============================] - 0s 17ms/step - loss: 0.2488 - accuracy: 0.9066 - val_loss: 0.3118 - val_accuracy: 0.9121\n",
            "Epoch 41/100\n",
            "4/4 [==============================] - 0s 17ms/step - loss: 0.2309 - accuracy: 0.9148 - val_loss: 0.3133 - val_accuracy: 0.9121\n",
            "Epoch 42/100\n",
            "4/4 [==============================] - 0s 17ms/step - loss: 0.2346 - accuracy: 0.9231 - val_loss: 0.3067 - val_accuracy: 0.9121\n",
            "Epoch 43/100\n",
            "4/4 [==============================] - 0s 16ms/step - loss: 0.2266 - accuracy: 0.9121 - val_loss: 0.3084 - val_accuracy: 0.9121\n",
            "Epoch 44/100\n",
            "4/4 [==============================] - 0s 16ms/step - loss: 0.2225 - accuracy: 0.9121 - val_loss: 0.3048 - val_accuracy: 0.9121\n",
            "Epoch 45/100\n",
            "4/4 [==============================] - 0s 14ms/step - loss: 0.2146 - accuracy: 0.9203 - val_loss: 0.3035 - val_accuracy: 0.9121\n",
            "Epoch 46/100\n",
            "4/4 [==============================] - 0s 15ms/step - loss: 0.2116 - accuracy: 0.9176 - val_loss: 0.2992 - val_accuracy: 0.9121\n",
            "Epoch 47/100\n",
            "4/4 [==============================] - 0s 16ms/step - loss: 0.2101 - accuracy: 0.9176 - val_loss: 0.2983 - val_accuracy: 0.9121\n",
            "Epoch 48/100\n",
            "4/4 [==============================] - 0s 16ms/step - loss: 0.2063 - accuracy: 0.9203 - val_loss: 0.2958 - val_accuracy: 0.9121\n",
            "Epoch 49/100\n",
            "4/4 [==============================] - 0s 16ms/step - loss: 0.2032 - accuracy: 0.9203 - val_loss: 0.2963 - val_accuracy: 0.9121\n",
            "Epoch 50/100\n",
            "4/4 [==============================] - 0s 15ms/step - loss: 0.2022 - accuracy: 0.9203 - val_loss: 0.2934 - val_accuracy: 0.9231\n",
            "Epoch 51/100\n",
            "4/4 [==============================] - 0s 17ms/step - loss: 0.1988 - accuracy: 0.9203 - val_loss: 0.2868 - val_accuracy: 0.9121\n",
            "Epoch 52/100\n",
            "4/4 [==============================] - 0s 15ms/step - loss: 0.2011 - accuracy: 0.9203 - val_loss: 0.2841 - val_accuracy: 0.9121\n",
            "Epoch 53/100\n",
            "4/4 [==============================] - 0s 23ms/step - loss: 0.1952 - accuracy: 0.9286 - val_loss: 0.2811 - val_accuracy: 0.9121\n",
            "Epoch 54/100\n",
            "4/4 [==============================] - 0s 19ms/step - loss: 0.2034 - accuracy: 0.9148 - val_loss: 0.2844 - val_accuracy: 0.9231\n",
            "Epoch 55/100\n",
            "4/4 [==============================] - 0s 15ms/step - loss: 0.2066 - accuracy: 0.9313 - val_loss: 0.2767 - val_accuracy: 0.9121\n",
            "Epoch 56/100\n",
            "4/4 [==============================] - 0s 16ms/step - loss: 0.1757 - accuracy: 0.9341 - val_loss: 0.3083 - val_accuracy: 0.9231\n",
            "Epoch 57/100\n",
            "4/4 [==============================] - 0s 17ms/step - loss: 0.2062 - accuracy: 0.9121 - val_loss: 0.2855 - val_accuracy: 0.9231\n",
            "Epoch 58/100\n",
            "4/4 [==============================] - 0s 20ms/step - loss: 0.1867 - accuracy: 0.9313 - val_loss: 0.2695 - val_accuracy: 0.9121\n",
            "Epoch 59/100\n",
            "4/4 [==============================] - 0s 17ms/step - loss: 0.1810 - accuracy: 0.9286 - val_loss: 0.2928 - val_accuracy: 0.9231\n",
            "Epoch 60/100\n",
            "4/4 [==============================] - 0s 17ms/step - loss: 0.1978 - accuracy: 0.9148 - val_loss: 0.2672 - val_accuracy: 0.9231\n",
            "Epoch 61/100\n",
            "4/4 [==============================] - 0s 18ms/step - loss: 0.1872 - accuracy: 0.9423 - val_loss: 0.2624 - val_accuracy: 0.9121\n",
            "Epoch 62/100\n",
            "4/4 [==============================] - 0s 21ms/step - loss: 0.1723 - accuracy: 0.9423 - val_loss: 0.3180 - val_accuracy: 0.9121\n",
            "Epoch 63/100\n",
            "4/4 [==============================] - 0s 20ms/step - loss: 0.1976 - accuracy: 0.9148 - val_loss: 0.2592 - val_accuracy: 0.9231\n",
            "Epoch 64/100\n",
            "4/4 [==============================] - 0s 19ms/step - loss: 0.1748 - accuracy: 0.9341 - val_loss: 0.2614 - val_accuracy: 0.9231\n",
            "Epoch 65/100\n",
            "4/4 [==============================] - 0s 19ms/step - loss: 0.1683 - accuracy: 0.9396 - val_loss: 0.2684 - val_accuracy: 0.9231\n",
            "Epoch 66/100\n",
            "4/4 [==============================] - 0s 19ms/step - loss: 0.1636 - accuracy: 0.9313 - val_loss: 0.2707 - val_accuracy: 0.9231\n",
            "Epoch 67/100\n",
            "4/4 [==============================] - 0s 24ms/step - loss: 0.1685 - accuracy: 0.9286 - val_loss: 0.2659 - val_accuracy: 0.9231\n",
            "Epoch 68/100\n",
            "4/4 [==============================] - 0s 18ms/step - loss: 0.1884 - accuracy: 0.9148 - val_loss: 0.2695 - val_accuracy: 0.9231\n",
            "Epoch 69/100\n",
            "4/4 [==============================] - 0s 18ms/step - loss: 0.1662 - accuracy: 0.9423 - val_loss: 0.2506 - val_accuracy: 0.9231\n",
            "Epoch 70/100\n",
            "4/4 [==============================] - 0s 15ms/step - loss: 0.1647 - accuracy: 0.9341 - val_loss: 0.2834 - val_accuracy: 0.9231\n",
            "Epoch 71/100\n",
            "4/4 [==============================] - 0s 14ms/step - loss: 0.1608 - accuracy: 0.9231 - val_loss: 0.2493 - val_accuracy: 0.9231\n",
            "Epoch 72/100\n",
            "4/4 [==============================] - 0s 16ms/step - loss: 0.1786 - accuracy: 0.9451 - val_loss: 0.2468 - val_accuracy: 0.9231\n",
            "Epoch 73/100\n",
            "4/4 [==============================] - 0s 18ms/step - loss: 0.1663 - accuracy: 0.9286 - val_loss: 0.2740 - val_accuracy: 0.9231\n",
            "Epoch 74/100\n",
            "4/4 [==============================] - 0s 17ms/step - loss: 0.1758 - accuracy: 0.9313 - val_loss: 0.2367 - val_accuracy: 0.9121\n",
            "Epoch 75/100\n",
            "4/4 [==============================] - 0s 19ms/step - loss: 0.1727 - accuracy: 0.9396 - val_loss: 0.2970 - val_accuracy: 0.9121\n",
            "Epoch 76/100\n",
            "4/4 [==============================] - 0s 21ms/step - loss: 0.1664 - accuracy: 0.9176 - val_loss: 0.2359 - val_accuracy: 0.9121\n",
            "Epoch 77/100\n",
            "4/4 [==============================] - 0s 20ms/step - loss: 0.1709 - accuracy: 0.9505 - val_loss: 0.2462 - val_accuracy: 0.9231\n",
            "Epoch 78/100\n",
            "4/4 [==============================] - 0s 16ms/step - loss: 0.1547 - accuracy: 0.9286 - val_loss: 0.2622 - val_accuracy: 0.9231\n",
            "Epoch 79/100\n",
            "4/4 [==============================] - 0s 18ms/step - loss: 0.1531 - accuracy: 0.9286 - val_loss: 0.2457 - val_accuracy: 0.9231\n",
            "Epoch 80/100\n",
            "4/4 [==============================] - 0s 19ms/step - loss: 0.1568 - accuracy: 0.9451 - val_loss: 0.2458 - val_accuracy: 0.9231\n",
            "Epoch 81/100\n",
            "4/4 [==============================] - 0s 17ms/step - loss: 0.1438 - accuracy: 0.9423 - val_loss: 0.2799 - val_accuracy: 0.9121\n",
            "Epoch 82/100\n",
            "4/4 [==============================] - 0s 16ms/step - loss: 0.1503 - accuracy: 0.9258 - val_loss: 0.2476 - val_accuracy: 0.9231\n",
            "Epoch 83/100\n",
            "4/4 [==============================] - 0s 15ms/step - loss: 0.1493 - accuracy: 0.9423 - val_loss: 0.2530 - val_accuracy: 0.9231\n",
            "Epoch 84/100\n",
            "4/4 [==============================] - 0s 15ms/step - loss: 0.1513 - accuracy: 0.9341 - val_loss: 0.2511 - val_accuracy: 0.9231\n",
            "Epoch 85/100\n",
            "4/4 [==============================] - 0s 15ms/step - loss: 0.1523 - accuracy: 0.9478 - val_loss: 0.2419 - val_accuracy: 0.9231\n",
            "Epoch 86/100\n",
            "4/4 [==============================] - 0s 16ms/step - loss: 0.1465 - accuracy: 0.9396 - val_loss: 0.2685 - val_accuracy: 0.9121\n",
            "Epoch 87/100\n",
            "4/4 [==============================] - 0s 17ms/step - loss: 0.1489 - accuracy: 0.9423 - val_loss: 0.2412 - val_accuracy: 0.9231\n",
            "Epoch 88/100\n",
            "4/4 [==============================] - 0s 16ms/step - loss: 0.1386 - accuracy: 0.9505 - val_loss: 0.2791 - val_accuracy: 0.9121\n",
            "Epoch 89/100\n",
            "4/4 [==============================] - 0s 15ms/step - loss: 0.1464 - accuracy: 0.9341 - val_loss: 0.2380 - val_accuracy: 0.9231\n",
            "Epoch 90/100\n",
            "4/4 [==============================] - 0s 17ms/step - loss: 0.1546 - accuracy: 0.9478 - val_loss: 0.2737 - val_accuracy: 0.9121\n",
            "Epoch 91/100\n",
            "4/4 [==============================] - 0s 15ms/step - loss: 0.1548 - accuracy: 0.9286 - val_loss: 0.2296 - val_accuracy: 0.9231\n",
            "Epoch 92/100\n",
            "4/4 [==============================] - 0s 15ms/step - loss: 0.1601 - accuracy: 0.9505 - val_loss: 0.2299 - val_accuracy: 0.9231\n",
            "Epoch 93/100\n",
            "4/4 [==============================] - 0s 17ms/step - loss: 0.1468 - accuracy: 0.9368 - val_loss: 0.2396 - val_accuracy: 0.9231\n",
            "Epoch 94/100\n",
            "4/4 [==============================] - 0s 17ms/step - loss: 0.1449 - accuracy: 0.9478 - val_loss: 0.2274 - val_accuracy: 0.9231\n",
            "Epoch 95/100\n",
            "4/4 [==============================] - 0s 15ms/step - loss: 0.1491 - accuracy: 0.9341 - val_loss: 0.2595 - val_accuracy: 0.9121\n",
            "Epoch 96/100\n",
            "4/4 [==============================] - 0s 16ms/step - loss: 0.1566 - accuracy: 0.9396 - val_loss: 0.2379 - val_accuracy: 0.9231\n",
            "Epoch 97/100\n",
            "4/4 [==============================] - 0s 25ms/step - loss: 0.1407 - accuracy: 0.9505 - val_loss: 0.2510 - val_accuracy: 0.9231\n",
            "Epoch 98/100\n",
            "4/4 [==============================] - 0s 19ms/step - loss: 0.1395 - accuracy: 0.9341 - val_loss: 0.2320 - val_accuracy: 0.9231\n",
            "Epoch 99/100\n",
            "4/4 [==============================] - 0s 16ms/step - loss: 0.1539 - accuracy: 0.9505 - val_loss: 0.2596 - val_accuracy: 0.9121\n",
            "Epoch 100/100\n",
            "4/4 [==============================] - 0s 15ms/step - loss: 0.1422 - accuracy: 0.9396 - val_loss: 0.2279 - val_accuracy: 0.9231\n"
          ]
        }
      ]
    },
    {
      "cell_type": "markdown",
      "source": [
        "- 모델 평가"
      ],
      "metadata": {
        "id": "X1BWsOF8IMou"
      }
    },
    {
      "cell_type": "code",
      "source": [
        "model.evaluate(X_test, y_test)"
      ],
      "metadata": {
        "colab": {
          "base_uri": "https://localhost:8080/"
        },
        "id": "dMBsLzzeHtth",
        "outputId": "05192714-22a1-4ffb-8f9b-85e90423b6a1"
      },
      "execution_count": 45,
      "outputs": [
        {
          "output_type": "stream",
          "name": "stdout",
          "text": [
            "4/4 [==============================] - 0s 4ms/step - loss: 0.2217 - accuracy: 0.9035\n"
          ]
        },
        {
          "output_type": "execute_result",
          "data": {
            "text/plain": [
              "[0.22165535390377045, 0.9035087823867798]"
            ]
          },
          "metadata": {},
          "execution_count": 45
        }
      ]
    },
    {
      "cell_type": "markdown",
      "source": [
        "- 훈련과정 시각화: epoch에 따른 accuracy, val_loss의 변화"
      ],
      "metadata": {
        "id": "kiGVRCzCIcHI"
      }
    },
    {
      "cell_type": "code",
      "source": [
        "y_acc = history.history['accuracy']\n",
        "y_vloss = history.history['val_loss']\n",
        "xs = np.arange(1, len(y_acc) + 1)"
      ],
      "metadata": {
        "id": "atF8JVjYIMD6"
      },
      "execution_count": 46,
      "outputs": []
    },
    {
      "cell_type": "code",
      "source": [
        "plt.figure(figsize = (12,8))\n",
        "plt.plot(xs, y_acc, label = 'train accuracy')\n",
        "plt.plot(xs, y_vloss, label='validation loss')\n",
        "plt.legend(), plt.grid()\n",
        "plt.ylim([0,1])\n",
        "plt.xlabel('Epoch')\n",
        "plt.title('No feature transform')\n",
        "plt.show()"
      ],
      "metadata": {
        "colab": {
          "base_uri": "https://localhost:8080/",
          "height": 513
        },
        "id": "qM4oCeRGJBYa",
        "outputId": "ee75a69b-4d86-4add-9fb7-9881b98fe3fc"
      },
      "execution_count": 48,
      "outputs": [
        {
          "output_type": "display_data",
          "data": {
            "text/plain": [
              "<Figure size 864x576 with 1 Axes>"
            ],
            "image/png": "[encoded data removed]"
          },
          "metadata": {
            "needs_background": "light"
          }
        }
      ]
    },
    {
      "cell_type": "markdown",
      "source": [
        "### 2. 데이터를 정규/표준화한 경우"
      ],
      "metadata": {
        "id": "UomUzzClKRXB"
      }
    },
    {
      "cell_type": "code",
      "source": [
        "from sklearn.preprocessing import StandardScaler\n",
        "cancer_std = StandardScaler().fit_transform(cancer.data)"
      ],
      "metadata": {
        "id": "1nqDv-5nJfHa"
      },
      "execution_count": 49,
      "outputs": []
    },
    {
      "cell_type": "code",
      "source": [
        "X_train2, X_test2, y_train2, y_test2 = train_test_split(\n",
        "    cancer_std, cancer.target, stratify = cancer.target,\n",
        "    test_size = 0.2, random_state = 2022\n",
        ")"
      ],
      "metadata": {
        "id": "nHN3tF2OKnJo"
      },
      "execution_count": 50,
      "outputs": []
    },
    {
      "cell_type": "markdown",
      "source": [
        "- 모델 정의"
      ],
      "metadata": {
        "id": "5xBdxUOiK1j2"
      }
    },
    {
      "cell_type": "code",
      "source": [
        "model2 = Sequential()\n",
        "model2.add(Dense(100, input_dim=30, activation='relu'))\n",
        "model2.add(Dense(24, activation='relu'))\n",
        "model2.add(Dense(1, activation='sigmoid'))\n",
        "model2.summary()"
      ],
      "metadata": {
        "colab": {
          "base_uri": "https://localhost:8080/"
        },
        "id": "6AJEvAdlKyy9",
        "outputId": "5043c0e0-e6e9-4767-b9bc-e20d64b287dc"
      },
      "execution_count": 51,
      "outputs": [
        {
          "output_type": "stream",
          "name": "stdout",
          "text": [
            "Model: \"sequential_5\"\n",
            "_________________________________________________________________\n",
            " Layer (type)                Output Shape              Param #   \n",
            "=================================================================\n",
            " dense_15 (Dense)            (None, 100)               3100      \n",
            "                                                                 \n",
            " dense_16 (Dense)            (None, 24)                2424      \n",
            "                                                                 \n",
            " dense_17 (Dense)            (None, 1)                 25        \n",
            "                                                                 \n",
            "=================================================================\n",
            "Total params: 5,549\n",
            "Trainable params: 5,549\n",
            "Non-trainable params: 0\n",
            "_________________________________________________________________\n"
          ]
        }
      ]
    },
    {
      "cell_type": "code",
      "source": [
        "# model = Sequential([\n",
        "#                     Dense(100, input_dim=30, activation='relu'),\n",
        "#                     Dense(24, activation='relu'),\n",
        "#                     Dense(1, activation='sigmoid')\n",
        "# ]) 위의 코드와 같음"
      ],
      "metadata": {
        "id": "Bbl9HYWRLThU"
      },
      "execution_count": 52,
      "outputs": []
    },
    {
      "cell_type": "markdown",
      "source": [
        "- 모델 설정"
      ],
      "metadata": {
        "id": "aS6i4H7SLnAt"
      }
    },
    {
      "cell_type": "code",
      "source": [
        "model2.compile(optimizer='adam', loss='binary_crossentropy', metrics=['accuracy'])"
      ],
      "metadata": {
        "id": "uG75pkfmLmhm"
      },
      "execution_count": 53,
      "outputs": []
    },
    {
      "cell_type": "markdown",
      "source": [
        "- 모델 학습"
      ],
      "metadata": {
        "id": "E20Jt5ZjL3Ew"
      }
    },
    {
      "cell_type": "code",
      "source": [
        "hist2 = model2.fit(X_train2, y_train2, validation_split = 0.2,\n",
        "                   epochs=100, batch_size=100)"
      ],
      "metadata": {
        "colab": {
          "base_uri": "https://localhost:8080/"
        },
        "id": "ZPW-veBOLxse",
        "outputId": "c7746d3a-e08f-453a-8433-e5f77720bf74"
      },
      "execution_count": 54,
      "outputs": [
        {
          "output_type": "stream",
          "name": "stdout",
          "text": [
            "Epoch 1/100\n",
            "4/4 [==============================] - 1s 95ms/step - loss: 0.7105 - accuracy: 0.4643 - val_loss: 0.6020 - val_accuracy: 0.8022\n",
            "Epoch 2/100\n",
            "4/4 [==============================] - 0s 19ms/step - loss: 0.5368 - accuracy: 0.8654 - val_loss: 0.4755 - val_accuracy: 0.9011\n",
            "Epoch 3/100\n",
            "4/4 [==============================] - 0s 18ms/step - loss: 0.4187 - accuracy: 0.9258 - val_loss: 0.3855 - val_accuracy: 0.9121\n",
            "Epoch 4/100\n",
            "4/4 [==============================] - 0s 19ms/step - loss: 0.3342 - accuracy: 0.9396 - val_loss: 0.3179 - val_accuracy: 0.9121\n",
            "Epoch 5/100\n",
            "4/4 [==============================] - 0s 18ms/step - loss: 0.2703 - accuracy: 0.9396 - val_loss: 0.2696 - val_accuracy: 0.9121\n",
            "Epoch 6/100\n",
            "4/4 [==============================] - 0s 16ms/step - loss: 0.2224 - accuracy: 0.9505 - val_loss: 0.2357 - val_accuracy: 0.9121\n",
            "Epoch 7/100\n",
            "4/4 [==============================] - 0s 17ms/step - loss: 0.1882 - accuracy: 0.9505 - val_loss: 0.2127 - val_accuracy: 0.9231\n",
            "Epoch 8/100\n",
            "4/4 [==============================] - 0s 18ms/step - loss: 0.1634 - accuracy: 0.9560 - val_loss: 0.1970 - val_accuracy: 0.9341\n",
            "Epoch 9/100\n",
            "4/4 [==============================] - 0s 16ms/step - loss: 0.1453 - accuracy: 0.9615 - val_loss: 0.1860 - val_accuracy: 0.9341\n",
            "Epoch 10/100\n",
            "4/4 [==============================] - 0s 16ms/step - loss: 0.1306 - accuracy: 0.9643 - val_loss: 0.1777 - val_accuracy: 0.9451\n",
            "Epoch 11/100\n",
            "4/4 [==============================] - 0s 17ms/step - loss: 0.1194 - accuracy: 0.9698 - val_loss: 0.1716 - val_accuracy: 0.9451\n",
            "Epoch 12/100\n",
            "4/4 [==============================] - 0s 21ms/step - loss: 0.1083 - accuracy: 0.9698 - val_loss: 0.1670 - val_accuracy: 0.9560\n",
            "Epoch 13/100\n",
            "4/4 [==============================] - 0s 17ms/step - loss: 0.1004 - accuracy: 0.9725 - val_loss: 0.1638 - val_accuracy: 0.9560\n",
            "Epoch 14/100\n",
            "4/4 [==============================] - 0s 19ms/step - loss: 0.0939 - accuracy: 0.9725 - val_loss: 0.1615 - val_accuracy: 0.9560\n",
            "Epoch 15/100\n",
            "4/4 [==============================] - 0s 15ms/step - loss: 0.0878 - accuracy: 0.9808 - val_loss: 0.1598 - val_accuracy: 0.9560\n",
            "Epoch 16/100\n",
            "4/4 [==============================] - 0s 23ms/step - loss: 0.0831 - accuracy: 0.9808 - val_loss: 0.1585 - val_accuracy: 0.9451\n",
            "Epoch 17/100\n",
            "4/4 [==============================] - 0s 17ms/step - loss: 0.0792 - accuracy: 0.9808 - val_loss: 0.1582 - val_accuracy: 0.9451\n",
            "Epoch 18/100\n",
            "4/4 [==============================] - 0s 15ms/step - loss: 0.0755 - accuracy: 0.9808 - val_loss: 0.1577 - val_accuracy: 0.9451\n",
            "Epoch 19/100\n",
            "4/4 [==============================] - 0s 15ms/step - loss: 0.0725 - accuracy: 0.9835 - val_loss: 0.1573 - val_accuracy: 0.9451\n",
            "Epoch 20/100\n",
            "4/4 [==============================] - 0s 16ms/step - loss: 0.0697 - accuracy: 0.9835 - val_loss: 0.1568 - val_accuracy: 0.9451\n",
            "Epoch 21/100\n",
            "4/4 [==============================] - 0s 14ms/step - loss: 0.0670 - accuracy: 0.9835 - val_loss: 0.1563 - val_accuracy: 0.9560\n",
            "Epoch 22/100\n",
            "4/4 [==============================] - 0s 14ms/step - loss: 0.0645 - accuracy: 0.9835 - val_loss: 0.1562 - val_accuracy: 0.9560\n",
            "Epoch 23/100\n",
            "4/4 [==============================] - 0s 21ms/step - loss: 0.0621 - accuracy: 0.9835 - val_loss: 0.1565 - val_accuracy: 0.9560\n",
            "Epoch 24/100\n",
            "4/4 [==============================] - 0s 15ms/step - loss: 0.0603 - accuracy: 0.9835 - val_loss: 0.1565 - val_accuracy: 0.9560\n",
            "Epoch 25/100\n",
            "4/4 [==============================] - 0s 17ms/step - loss: 0.0583 - accuracy: 0.9835 - val_loss: 0.1566 - val_accuracy: 0.9560\n",
            "Epoch 26/100\n",
            "4/4 [==============================] - 0s 19ms/step - loss: 0.0565 - accuracy: 0.9835 - val_loss: 0.1562 - val_accuracy: 0.9560\n",
            "Epoch 27/100\n",
            "4/4 [==============================] - 0s 17ms/step - loss: 0.0548 - accuracy: 0.9863 - val_loss: 0.1562 - val_accuracy: 0.9560\n",
            "Epoch 28/100\n",
            "4/4 [==============================] - 0s 21ms/step - loss: 0.0530 - accuracy: 0.9863 - val_loss: 0.1565 - val_accuracy: 0.9560\n",
            "Epoch 29/100\n",
            "4/4 [==============================] - 0s 16ms/step - loss: 0.0515 - accuracy: 0.9863 - val_loss: 0.1567 - val_accuracy: 0.9560\n",
            "Epoch 30/100\n",
            "4/4 [==============================] - 0s 17ms/step - loss: 0.0499 - accuracy: 0.9863 - val_loss: 0.1570 - val_accuracy: 0.9560\n",
            "Epoch 31/100\n",
            "4/4 [==============================] - 0s 19ms/step - loss: 0.0487 - accuracy: 0.9863 - val_loss: 0.1576 - val_accuracy: 0.9560\n",
            "Epoch 32/100\n",
            "4/4 [==============================] - 0s 19ms/step - loss: 0.0472 - accuracy: 0.9863 - val_loss: 0.1579 - val_accuracy: 0.9560\n",
            "Epoch 33/100\n",
            "4/4 [==============================] - 0s 21ms/step - loss: 0.0459 - accuracy: 0.9863 - val_loss: 0.1587 - val_accuracy: 0.9560\n",
            "Epoch 34/100\n",
            "4/4 [==============================] - 0s 18ms/step - loss: 0.0447 - accuracy: 0.9863 - val_loss: 0.1592 - val_accuracy: 0.9560\n",
            "Epoch 35/100\n",
            "4/4 [==============================] - 0s 15ms/step - loss: 0.0434 - accuracy: 0.9863 - val_loss: 0.1605 - val_accuracy: 0.9560\n",
            "Epoch 36/100\n",
            "4/4 [==============================] - 0s 15ms/step - loss: 0.0422 - accuracy: 0.9863 - val_loss: 0.1618 - val_accuracy: 0.9560\n",
            "Epoch 37/100\n",
            "4/4 [==============================] - 0s 15ms/step - loss: 0.0411 - accuracy: 0.9863 - val_loss: 0.1629 - val_accuracy: 0.9560\n",
            "Epoch 38/100\n",
            "4/4 [==============================] - 0s 15ms/step - loss: 0.0399 - accuracy: 0.9863 - val_loss: 0.1640 - val_accuracy: 0.9560\n",
            "Epoch 39/100\n",
            "4/4 [==============================] - 0s 16ms/step - loss: 0.0388 - accuracy: 0.9863 - val_loss: 0.1650 - val_accuracy: 0.9560\n",
            "Epoch 40/100\n",
            "4/4 [==============================] - 0s 15ms/step - loss: 0.0378 - accuracy: 0.9863 - val_loss: 0.1659 - val_accuracy: 0.9560\n",
            "Epoch 41/100\n",
            "4/4 [==============================] - 0s 15ms/step - loss: 0.0367 - accuracy: 0.9863 - val_loss: 0.1667 - val_accuracy: 0.9560\n",
            "Epoch 42/100\n",
            "4/4 [==============================] - 0s 16ms/step - loss: 0.0358 - accuracy: 0.9890 - val_loss: 0.1681 - val_accuracy: 0.9560\n",
            "Epoch 43/100\n",
            "4/4 [==============================] - 0s 17ms/step - loss: 0.0346 - accuracy: 0.9890 - val_loss: 0.1702 - val_accuracy: 0.9451\n",
            "Epoch 44/100\n",
            "4/4 [==============================] - 0s 17ms/step - loss: 0.0337 - accuracy: 0.9890 - val_loss: 0.1719 - val_accuracy: 0.9451\n",
            "Epoch 45/100\n",
            "4/4 [==============================] - 0s 16ms/step - loss: 0.0326 - accuracy: 0.9890 - val_loss: 0.1735 - val_accuracy: 0.9451\n",
            "Epoch 46/100\n",
            "4/4 [==============================] - 0s 17ms/step - loss: 0.0315 - accuracy: 0.9890 - val_loss: 0.1751 - val_accuracy: 0.9451\n",
            "Epoch 47/100\n",
            "4/4 [==============================] - 0s 15ms/step - loss: 0.0306 - accuracy: 0.9890 - val_loss: 0.1759 - val_accuracy: 0.9451\n",
            "Epoch 48/100\n",
            "4/4 [==============================] - 0s 18ms/step - loss: 0.0296 - accuracy: 0.9918 - val_loss: 0.1773 - val_accuracy: 0.9451\n",
            "Epoch 49/100\n",
            "4/4 [==============================] - 0s 21ms/step - loss: 0.0288 - accuracy: 0.9918 - val_loss: 0.1789 - val_accuracy: 0.9451\n",
            "Epoch 50/100\n",
            "4/4 [==============================] - 0s 15ms/step - loss: 0.0278 - accuracy: 0.9918 - val_loss: 0.1803 - val_accuracy: 0.9451\n",
            "Epoch 51/100\n",
            "4/4 [==============================] - 0s 16ms/step - loss: 0.0271 - accuracy: 0.9918 - val_loss: 0.1812 - val_accuracy: 0.9451\n",
            "Epoch 52/100\n",
            "4/4 [==============================] - 0s 14ms/step - loss: 0.0261 - accuracy: 0.9918 - val_loss: 0.1824 - val_accuracy: 0.9451\n",
            "Epoch 53/100\n",
            "4/4 [==============================] - 0s 24ms/step - loss: 0.0254 - accuracy: 0.9918 - val_loss: 0.1833 - val_accuracy: 0.9451\n",
            "Epoch 54/100\n",
            "4/4 [==============================] - 0s 19ms/step - loss: 0.0246 - accuracy: 0.9918 - val_loss: 0.1856 - val_accuracy: 0.9451\n",
            "Epoch 55/100\n",
            "4/4 [==============================] - 0s 15ms/step - loss: 0.0237 - accuracy: 0.9918 - val_loss: 0.1871 - val_accuracy: 0.9451\n",
            "Epoch 56/100\n",
            "4/4 [==============================] - 0s 18ms/step - loss: 0.0230 - accuracy: 0.9918 - val_loss: 0.1888 - val_accuracy: 0.9451\n",
            "Epoch 57/100\n",
            "4/4 [==============================] - 0s 14ms/step - loss: 0.0222 - accuracy: 0.9918 - val_loss: 0.1898 - val_accuracy: 0.9451\n",
            "Epoch 58/100\n",
            "4/4 [==============================] - 0s 18ms/step - loss: 0.0215 - accuracy: 0.9945 - val_loss: 0.1917 - val_accuracy: 0.9451\n",
            "Epoch 59/100\n",
            "4/4 [==============================] - 0s 20ms/step - loss: 0.0209 - accuracy: 0.9945 - val_loss: 0.1932 - val_accuracy: 0.9451\n",
            "Epoch 60/100\n",
            "4/4 [==============================] - 0s 19ms/step - loss: 0.0201 - accuracy: 0.9945 - val_loss: 0.1940 - val_accuracy: 0.9451\n",
            "Epoch 61/100\n",
            "4/4 [==============================] - 0s 15ms/step - loss: 0.0194 - accuracy: 0.9945 - val_loss: 0.1948 - val_accuracy: 0.9451\n",
            "Epoch 62/100\n",
            "4/4 [==============================] - 0s 16ms/step - loss: 0.0190 - accuracy: 0.9945 - val_loss: 0.1964 - val_accuracy: 0.9451\n",
            "Epoch 63/100\n",
            "4/4 [==============================] - 0s 22ms/step - loss: 0.0182 - accuracy: 0.9945 - val_loss: 0.1978 - val_accuracy: 0.9451\n",
            "Epoch 64/100\n",
            "4/4 [==============================] - 0s 15ms/step - loss: 0.0177 - accuracy: 0.9945 - val_loss: 0.1988 - val_accuracy: 0.9451\n",
            "Epoch 65/100\n",
            "4/4 [==============================] - 0s 16ms/step - loss: 0.0171 - accuracy: 0.9945 - val_loss: 0.2015 - val_accuracy: 0.9451\n",
            "Epoch 66/100\n",
            "4/4 [==============================] - 0s 16ms/step - loss: 0.0164 - accuracy: 0.9945 - val_loss: 0.2032 - val_accuracy: 0.9451\n",
            "Epoch 67/100\n",
            "4/4 [==============================] - 0s 16ms/step - loss: 0.0159 - accuracy: 0.9945 - val_loss: 0.2042 - val_accuracy: 0.9451\n",
            "Epoch 68/100\n",
            "4/4 [==============================] - 0s 16ms/step - loss: 0.0155 - accuracy: 0.9973 - val_loss: 0.2058 - val_accuracy: 0.9451\n",
            "Epoch 69/100\n",
            "4/4 [==============================] - 0s 16ms/step - loss: 0.0149 - accuracy: 1.0000 - val_loss: 0.2068 - val_accuracy: 0.9451\n",
            "Epoch 70/100\n",
            "4/4 [==============================] - 0s 17ms/step - loss: 0.0145 - accuracy: 1.0000 - val_loss: 0.2071 - val_accuracy: 0.9451\n",
            "Epoch 71/100\n",
            "4/4 [==============================] - 0s 18ms/step - loss: 0.0139 - accuracy: 1.0000 - val_loss: 0.2088 - val_accuracy: 0.9451\n",
            "Epoch 72/100\n",
            "4/4 [==============================] - 0s 16ms/step - loss: 0.0135 - accuracy: 1.0000 - val_loss: 0.2106 - val_accuracy: 0.9560\n",
            "Epoch 73/100\n",
            "4/4 [==============================] - 0s 15ms/step - loss: 0.0131 - accuracy: 1.0000 - val_loss: 0.2120 - val_accuracy: 0.9560\n",
            "Epoch 74/100\n",
            "4/4 [==============================] - 0s 16ms/step - loss: 0.0126 - accuracy: 1.0000 - val_loss: 0.2137 - val_accuracy: 0.9560\n",
            "Epoch 75/100\n",
            "4/4 [==============================] - 0s 17ms/step - loss: 0.0122 - accuracy: 1.0000 - val_loss: 0.2148 - val_accuracy: 0.9560\n",
            "Epoch 76/100\n",
            "4/4 [==============================] - 0s 16ms/step - loss: 0.0119 - accuracy: 1.0000 - val_loss: 0.2161 - val_accuracy: 0.9560\n",
            "Epoch 77/100\n",
            "4/4 [==============================] - 0s 19ms/step - loss: 0.0114 - accuracy: 1.0000 - val_loss: 0.2177 - val_accuracy: 0.9560\n",
            "Epoch 78/100\n",
            "4/4 [==============================] - 0s 16ms/step - loss: 0.0110 - accuracy: 1.0000 - val_loss: 0.2194 - val_accuracy: 0.9560\n",
            "Epoch 79/100\n",
            "4/4 [==============================] - 0s 15ms/step - loss: 0.0107 - accuracy: 1.0000 - val_loss: 0.2202 - val_accuracy: 0.9451\n",
            "Epoch 80/100\n",
            "4/4 [==============================] - 0s 18ms/step - loss: 0.0103 - accuracy: 1.0000 - val_loss: 0.2212 - val_accuracy: 0.9451\n",
            "Epoch 81/100\n",
            "4/4 [==============================] - 0s 17ms/step - loss: 0.0101 - accuracy: 1.0000 - val_loss: 0.2230 - val_accuracy: 0.9451\n",
            "Epoch 82/100\n",
            "4/4 [==============================] - 0s 17ms/step - loss: 0.0097 - accuracy: 1.0000 - val_loss: 0.2235 - val_accuracy: 0.9451\n",
            "Epoch 83/100\n",
            "4/4 [==============================] - 0s 17ms/step - loss: 0.0094 - accuracy: 1.0000 - val_loss: 0.2242 - val_accuracy: 0.9451\n",
            "Epoch 84/100\n",
            "4/4 [==============================] - 0s 22ms/step - loss: 0.0091 - accuracy: 1.0000 - val_loss: 0.2252 - val_accuracy: 0.9451\n",
            "Epoch 85/100\n",
            "4/4 [==============================] - 0s 16ms/step - loss: 0.0088 - accuracy: 1.0000 - val_loss: 0.2266 - val_accuracy: 0.9451\n",
            "Epoch 86/100\n",
            "4/4 [==============================] - 0s 19ms/step - loss: 0.0085 - accuracy: 1.0000 - val_loss: 0.2280 - val_accuracy: 0.9451\n",
            "Epoch 87/100\n",
            "4/4 [==============================] - 0s 18ms/step - loss: 0.0083 - accuracy: 1.0000 - val_loss: 0.2289 - val_accuracy: 0.9451\n",
            "Epoch 88/100\n",
            "4/4 [==============================] - 0s 17ms/step - loss: 0.0081 - accuracy: 1.0000 - val_loss: 0.2295 - val_accuracy: 0.9451\n",
            "Epoch 89/100\n",
            "4/4 [==============================] - 0s 19ms/step - loss: 0.0077 - accuracy: 1.0000 - val_loss: 0.2315 - val_accuracy: 0.9451\n",
            "Epoch 90/100\n",
            "4/4 [==============================] - 0s 17ms/step - loss: 0.0075 - accuracy: 1.0000 - val_loss: 0.2333 - val_accuracy: 0.9451\n",
            "Epoch 91/100\n",
            "4/4 [==============================] - 0s 17ms/step - loss: 0.0073 - accuracy: 1.0000 - val_loss: 0.2339 - val_accuracy: 0.9451\n",
            "Epoch 92/100\n",
            "4/4 [==============================] - 0s 18ms/step - loss: 0.0071 - accuracy: 1.0000 - val_loss: 0.2349 - val_accuracy: 0.9451\n",
            "Epoch 93/100\n",
            "4/4 [==============================] - 0s 15ms/step - loss: 0.0069 - accuracy: 1.0000 - val_loss: 0.2343 - val_accuracy: 0.9451\n",
            "Epoch 94/100\n",
            "4/4 [==============================] - 0s 25ms/step - loss: 0.0067 - accuracy: 1.0000 - val_loss: 0.2363 - val_accuracy: 0.9451\n",
            "Epoch 95/100\n",
            "4/4 [==============================] - 0s 17ms/step - loss: 0.0065 - accuracy: 1.0000 - val_loss: 0.2384 - val_accuracy: 0.9451\n",
            "Epoch 96/100\n",
            "4/4 [==============================] - 0s 16ms/step - loss: 0.0063 - accuracy: 1.0000 - val_loss: 0.2386 - val_accuracy: 0.9451\n",
            "Epoch 97/100\n",
            "4/4 [==============================] - 0s 19ms/step - loss: 0.0061 - accuracy: 1.0000 - val_loss: 0.2394 - val_accuracy: 0.9451\n",
            "Epoch 98/100\n",
            "4/4 [==============================] - 0s 16ms/step - loss: 0.0059 - accuracy: 1.0000 - val_loss: 0.2402 - val_accuracy: 0.9451\n",
            "Epoch 99/100\n",
            "4/4 [==============================] - 0s 19ms/step - loss: 0.0058 - accuracy: 1.0000 - val_loss: 0.2405 - val_accuracy: 0.9451\n",
            "Epoch 100/100\n",
            "4/4 [==============================] - 0s 14ms/step - loss: 0.0056 - accuracy: 1.0000 - val_loss: 0.2418 - val_accuracy: 0.9451\n"
          ]
        }
      ]
    },
    {
      "cell_type": "markdown",
      "source": [
        "- 모델 평가"
      ],
      "metadata": {
        "id": "M1O8f8--MORI"
      }
    },
    {
      "cell_type": "code",
      "source": [
        "model2.evaluate(X_test2, y_test2)"
      ],
      "metadata": {
        "colab": {
          "base_uri": "https://localhost:8080/"
        },
        "id": "NW1MxWntMF_5",
        "outputId": "2edaa301-ae49-44ef-ba2e-52a4018b4d9e"
      },
      "execution_count": 55,
      "outputs": [
        {
          "output_type": "stream",
          "name": "stdout",
          "text": [
            "4/4 [==============================] - 0s 4ms/step - loss: 0.0441 - accuracy: 0.9825\n"
          ]
        },
        {
          "output_type": "execute_result",
          "data": {
            "text/plain": [
              "[0.044072095304727554, 0.9824561476707458]"
            ]
          },
          "metadata": {},
          "execution_count": 55
        }
      ]
    },
    {
      "cell_type": "markdown",
      "source": [
        "- 학습과정 시각화"
      ],
      "metadata": {
        "id": "6iQHgiseMdVd"
      }
    },
    {
      "cell_type": "code",
      "source": [
        "y_acc2 = hist2.history['accuracy']\n",
        "y_vloss2 = hist2.history['val_loss']\n",
        "xs = np.arange(1, len(y_acc) + 1)"
      ],
      "metadata": {
        "id": "irt6ofU-MUMX"
      },
      "execution_count": 57,
      "outputs": []
    },
    {
      "cell_type": "code",
      "source": [
        "plt.figure(figsize = (12,8))\n",
        "plt.plot(xs, y_acc2, label = 'train accuracy')\n",
        "plt.plot(xs, y_vloss2, label='validation loss')\n",
        "plt.legend(), plt.grid()\n",
        "plt.ylim([0,1.2])\n",
        "plt.xlabel('Epoch')\n",
        "plt.title('After feature transform')\n",
        "plt.show()"
      ],
      "metadata": {
        "colab": {
          "base_uri": "https://localhost:8080/",
          "height": 513
        },
        "id": "qOI7ND1dMlZh",
        "outputId": "35c1c6d1-0283-497a-a552-c774956cc8a2"
      },
      "execution_count": 60,
      "outputs": [
        {
          "output_type": "display_data",
          "data": {
            "text/plain": [
              "<Figure size 864x576 with 1 Axes>"
            ],
            "image/png": "[encoded data removed]"
          },
          "metadata": {
            "needs_background": "light"
          }
        }
      ]
    },
    {
      "cell_type": "code",
      "source": [
        ""
      ],
      "metadata": {
        "id": "e3EZpbh6MyE9"
      },
      "execution_count": null,
      "outputs": []
    }
  ]
}