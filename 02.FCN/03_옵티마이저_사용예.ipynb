{
  "nbformat": 4,
  "nbformat_minor": 0,
  "metadata": {
    "colab": {
      "name": "03_옵티마이저_사용예.ipynb",
      "provenance": [],
      "collapsed_sections": []
    },
    "kernelspec": {
      "name": "python3",
      "display_name": "Python 3"
    },
    "language_info": {
      "name": "python"
    }
  },
  "cells": [
    {
      "cell_type": "markdown",
      "source": [
        "# 신경망 모델에서 옵티마이저 사용법"
      ],
      "metadata": {
        "id": "x54AfV7qXPQI"
      }
    },
    {
      "cell_type": "markdown",
      "source": [
        "### - 이진분류: 유방암 예측 사례"
      ],
      "metadata": {
        "id": "TT_wKhsCXSE_"
      }
    },
    {
      "cell_type": "code",
      "execution_count": 19,
      "metadata": {
        "id": "x7QdC2UOXMCL"
      },
      "outputs": [],
      "source": [
        "import numpy as np\n",
        "import matplotlib.pyplot as plt\n",
        "from sklearn.datasets import load_breast_cancer\n",
        "from sklearn.preprocessing import StandardScaler\n",
        "from sklearn.model_selection import train_test_split"
      ]
    },
    {
      "cell_type": "code",
      "source": [
        "cancer = load_breast_cancer()\n",
        "cancer_std = StandardScaler().fit_transform(cancer.data)\n",
        "X_train, X_test, y_train, y_test = train_test_split(\n",
        "    cancer_std, cancer.target, stratify=cancer.target,\n",
        "    test_size=0.2, random_state=2022\n",
        ")"
      ],
      "metadata": {
        "id": "Ma0QOpzmXhqt"
      },
      "execution_count": 20,
      "outputs": []
    },
    {
      "cell_type": "markdown",
      "source": [
        "### 1. Adam optimizer"
      ],
      "metadata": {
        "id": "p4cwhLc4X32x"
      }
    },
    {
      "cell_type": "code",
      "source": [
        "from tensorflow.keras.models import Sequential\n",
        "from tensorflow.keras.layers import Dense"
      ],
      "metadata": {
        "id": "FDVsl5ieX3O2"
      },
      "execution_count": 21,
      "outputs": []
    },
    {
      "cell_type": "code",
      "source": [
        "model = Sequential([\n",
        "                    Dense(100, input_dim=30, activation='relu'),\n",
        "                    Dense(24, activation='relu'),\n",
        "                    Dense(1, activation='sigmoid')\n",
        "])"
      ],
      "metadata": {
        "id": "kA7fifbTYFxE"
      },
      "execution_count": 22,
      "outputs": []
    },
    {
      "cell_type": "markdown",
      "source": [
        "#### Adam 하이퍼 파라메터\n",
        "- learning_rate: 0보다 크거나 같은 float 값. 학습률.\n",
        "- beta_1: 0보다 크고 1보다 작은 float 값. 일반적으로 1에 가깝게 설정됩니다.\n",
        "- beta_2: 0보다 크고 1보다 작은 float 값. 일반적으로 1에 가깝게 설정됩니다.\n",
        "- epsilon: 0보다 크거나 같은 float형 fuzz factor. None인 경우 K.epsilon()이 사용됩니다.\n",
        "- decay: 0보다 크거나 같은 float 값. 업데이트마다 적용되는 학습률의 감소율입니다.\n",
        "- amsgrad: 불리언. Adam의 변형인 AMSGrad의 적용 여부를 설정합니다"
      ],
      "metadata": {
        "id": "vJnJNaJBYmJi"
      }
    },
    {
      "cell_type": "code",
      "source": [
        "from tensorflow.keras.optimizers import Adam\n",
        "adam = Adam(learning_rate=0.001, beta_1=0.9, beta_2=0.999,\n",
        "            epsilon=None, decay=0.0, amsgrad=False)"
      ],
      "metadata": {
        "id": "C1xyOMZrYYrW"
      },
      "execution_count": 23,
      "outputs": []
    },
    {
      "cell_type": "code",
      "source": [
        "model.compile(optimizer=adam, loss='binary_crossentropy', metrics=['accuracy'])"
      ],
      "metadata": {
        "id": "tN0R8BqGZhhr"
      },
      "execution_count": 24,
      "outputs": []
    },
    {
      "cell_type": "code",
      "source": [
        "hist = model.fit(X_train, y_train, validation_split=0.2,\n",
        "                 epochs=100, batch_size=100, verbose=0)"
      ],
      "metadata": {
        "id": "HJtQOdQLaeVd"
      },
      "execution_count": 25,
      "outputs": []
    },
    {
      "cell_type": "code",
      "source": [
        "model.evaluate(X_test, y_test)"
      ],
      "metadata": {
        "colab": {
          "base_uri": "https://localhost:8080/"
        },
        "id": "nyUP-lgEa5Dm",
        "outputId": "9d022844-42c0-4980-d69b-323557ec4b6e"
      },
      "execution_count": 26,
      "outputs": [
        {
          "output_type": "stream",
          "name": "stdout",
          "text": [
            "4/4 [==============================] - 0s 3ms/step - loss: 0.0445 - accuracy: 0.9825\n"
          ]
        },
        {
          "output_type": "execute_result",
          "data": {
            "text/plain": [
              "[0.04454691335558891, 0.9824561476707458]"
            ]
          },
          "metadata": {},
          "execution_count": 26
        }
      ]
    },
    {
      "cell_type": "code",
      "source": [
        "y_acc = hist.history['accuracy']\n",
        "y_vloss = hist.history['val_loss']\n",
        "xs = np.arange(1,len(y_acc)+1)"
      ],
      "metadata": {
        "id": "MJ9DjpwBhTIM"
      },
      "execution_count": 27,
      "outputs": []
    },
    {
      "cell_type": "code",
      "source": [
        "plt.figure(figsize=(12,8))\n",
        "plt.plot(xs, y_acc, label='train accuracy')\n",
        "plt.plot(xs, y_vloss, label='validation loss')\n",
        "plt.legend()\n",
        "plt.grid()\n",
        "plt.ylim([0,1.1])\n",
        "plt.xlabel('Epoch')\n",
        "plt.title('Adam optimizer')\n",
        "plt.show()"
      ],
      "metadata": {
        "colab": {
          "base_uri": "https://localhost:8080/",
          "height": 513
        },
        "id": "6iC_L-EdhT1Y",
        "outputId": "ced66495-8017-4a0c-c3c7-83ebd0a0a587"
      },
      "execution_count": 28,
      "outputs": [
        {
          "output_type": "display_data",
          "data": {
            "text/plain": [
              "<Figure size 864x576 with 1 Axes>"
            ],
            "image/png": "[encoded data removed]"
          },
          "metadata": {
            "needs_background": "light"
          }
        }
      ]
    },
    {
      "cell_type": "markdown",
      "source": [
        "# 2. RMSProp Optimizer"
      ],
      "metadata": {
        "id": "TWMXCu2ib1e1"
      }
    },
    {
      "cell_type": "code",
      "source": [
        "model2 = Sequential([\n",
        "                    Dense(100, input_dim=30, activation='relu'),\n",
        "                    Dense(24, activation='relu'),\n",
        "                    Dense(1, activation='sigmoid')\n",
        "])"
      ],
      "metadata": {
        "id": "zNQgCa2QbA-Q"
      },
      "execution_count": 29,
      "outputs": []
    },
    {
      "cell_type": "markdown",
      "source": [
        "#### RMSProp 하이퍼 파라메터\n",
        "- lr: 0보다 크거나 같은 float 값. 학습률.\n",
        "- rho: 0보다 크거나 같은 float 값.\n",
        "- epsilon: 0보다 크거나 같은 float형 fuzz factor. None인 경우 K.epsilon()이 사용됩니다.\n",
        "- decay: 0보다 크거나 같은 float 값. 업데이트마다 적용되는 학습률의 감소율입니다."
      ],
      "metadata": {
        "id": "A0GmRzzmb9z3"
      }
    },
    {
      "cell_type": "code",
      "source": [
        "from tensorflow.keras.optimizers import RMSprop\n",
        "rmsp = RMSprop(learning_rate=0.001, rho=0.9, epsilon=None, decay=0.0)"
      ],
      "metadata": {
        "id": "lj_Xsbbzb9EU"
      },
      "execution_count": 30,
      "outputs": []
    },
    {
      "cell_type": "code",
      "source": [
        "model2.compile(rmsp, 'binary_crossentropy', ['accuracy'])\n",
        "hist2 = model2.fit(X_train, y_train, validation_split=0.2,\n",
        "                   epochs=100, batch_size=100, verbose=2)"
      ],
      "metadata": {
        "colab": {
          "base_uri": "https://localhost:8080/"
        },
        "id": "m_PYrKMTgAz4",
        "outputId": "8f24541c-51f9-4209-b4b9-5a48bf91205c"
      },
      "execution_count": 31,
      "outputs": [
        {
          "output_type": "stream",
          "name": "stdout",
          "text": [
            "Epoch 1/100\n",
            "4/4 - 1s - loss: 0.5693 - accuracy: 0.7500 - val_loss: 0.4639 - val_accuracy: 0.9451 - 717ms/epoch - 179ms/step\n",
            "Epoch 2/100\n",
            "4/4 - 0s - loss: 0.4080 - accuracy: 0.9313 - val_loss: 0.3632 - val_accuracy: 0.9560 - 27ms/epoch - 7ms/step\n",
            "Epoch 3/100\n",
            "4/4 - 0s - loss: 0.3199 - accuracy: 0.9505 - val_loss: 0.2921 - val_accuracy: 0.9560 - 32ms/epoch - 8ms/step\n",
            "Epoch 4/100\n",
            "4/4 - 0s - loss: 0.2578 - accuracy: 0.9533 - val_loss: 0.2416 - val_accuracy: 0.9670 - 31ms/epoch - 8ms/step\n",
            "Epoch 5/100\n",
            "4/4 - 0s - loss: 0.2129 - accuracy: 0.9560 - val_loss: 0.2063 - val_accuracy: 0.9670 - 29ms/epoch - 7ms/step\n",
            "Epoch 6/100\n",
            "4/4 - 0s - loss: 0.1799 - accuracy: 0.9670 - val_loss: 0.1802 - val_accuracy: 0.9670 - 29ms/epoch - 7ms/step\n",
            "Epoch 7/100\n",
            "4/4 - 0s - loss: 0.1557 - accuracy: 0.9643 - val_loss: 0.1630 - val_accuracy: 0.9560 - 27ms/epoch - 7ms/step\n",
            "Epoch 8/100\n",
            "4/4 - 0s - loss: 0.1359 - accuracy: 0.9753 - val_loss: 0.1483 - val_accuracy: 0.9560 - 28ms/epoch - 7ms/step\n",
            "Epoch 9/100\n",
            "4/4 - 0s - loss: 0.1208 - accuracy: 0.9780 - val_loss: 0.1377 - val_accuracy: 0.9560 - 28ms/epoch - 7ms/step\n",
            "Epoch 10/100\n",
            "4/4 - 0s - loss: 0.1083 - accuracy: 0.9780 - val_loss: 0.1309 - val_accuracy: 0.9670 - 29ms/epoch - 7ms/step\n",
            "Epoch 11/100\n",
            "4/4 - 0s - loss: 0.0980 - accuracy: 0.9808 - val_loss: 0.1234 - val_accuracy: 0.9670 - 29ms/epoch - 7ms/step\n",
            "Epoch 12/100\n",
            "4/4 - 0s - loss: 0.0890 - accuracy: 0.9808 - val_loss: 0.1173 - val_accuracy: 0.9670 - 28ms/epoch - 7ms/step\n",
            "Epoch 13/100\n",
            "4/4 - 0s - loss: 0.0819 - accuracy: 0.9808 - val_loss: 0.1155 - val_accuracy: 0.9670 - 34ms/epoch - 8ms/step\n",
            "Epoch 14/100\n",
            "4/4 - 0s - loss: 0.0762 - accuracy: 0.9835 - val_loss: 0.1093 - val_accuracy: 0.9670 - 31ms/epoch - 8ms/step\n",
            "Epoch 15/100\n",
            "4/4 - 0s - loss: 0.0708 - accuracy: 0.9863 - val_loss: 0.1100 - val_accuracy: 0.9670 - 31ms/epoch - 8ms/step\n",
            "Epoch 16/100\n",
            "4/4 - 0s - loss: 0.0660 - accuracy: 0.9863 - val_loss: 0.1053 - val_accuracy: 0.9670 - 27ms/epoch - 7ms/step\n",
            "Epoch 17/100\n",
            "4/4 - 0s - loss: 0.0620 - accuracy: 0.9890 - val_loss: 0.1043 - val_accuracy: 0.9670 - 26ms/epoch - 6ms/step\n",
            "Epoch 18/100\n",
            "4/4 - 0s - loss: 0.0591 - accuracy: 0.9863 - val_loss: 0.1018 - val_accuracy: 0.9670 - 26ms/epoch - 6ms/step\n",
            "Epoch 19/100\n",
            "4/4 - 0s - loss: 0.0557 - accuracy: 0.9890 - val_loss: 0.1004 - val_accuracy: 0.9670 - 29ms/epoch - 7ms/step\n",
            "Epoch 20/100\n",
            "4/4 - 0s - loss: 0.0527 - accuracy: 0.9890 - val_loss: 0.1006 - val_accuracy: 0.9670 - 30ms/epoch - 7ms/step\n",
            "Epoch 21/100\n",
            "4/4 - 0s - loss: 0.0500 - accuracy: 0.9890 - val_loss: 0.0989 - val_accuracy: 0.9670 - 29ms/epoch - 7ms/step\n",
            "Epoch 22/100\n",
            "4/4 - 0s - loss: 0.0484 - accuracy: 0.9890 - val_loss: 0.0982 - val_accuracy: 0.9670 - 30ms/epoch - 8ms/step\n",
            "Epoch 23/100\n",
            "4/4 - 0s - loss: 0.0451 - accuracy: 0.9890 - val_loss: 0.0981 - val_accuracy: 0.9670 - 38ms/epoch - 10ms/step\n",
            "Epoch 24/100\n",
            "4/4 - 0s - loss: 0.0433 - accuracy: 0.9863 - val_loss: 0.0964 - val_accuracy: 0.9670 - 28ms/epoch - 7ms/step\n",
            "Epoch 25/100\n",
            "4/4 - 0s - loss: 0.0409 - accuracy: 0.9890 - val_loss: 0.0974 - val_accuracy: 0.9560 - 26ms/epoch - 7ms/step\n",
            "Epoch 26/100\n",
            "4/4 - 0s - loss: 0.0389 - accuracy: 0.9918 - val_loss: 0.0999 - val_accuracy: 0.9451 - 29ms/epoch - 7ms/step\n",
            "Epoch 27/100\n",
            "4/4 - 0s - loss: 0.0368 - accuracy: 0.9918 - val_loss: 0.0987 - val_accuracy: 0.9560 - 33ms/epoch - 8ms/step\n",
            "Epoch 28/100\n",
            "4/4 - 0s - loss: 0.0346 - accuracy: 0.9918 - val_loss: 0.1020 - val_accuracy: 0.9560 - 27ms/epoch - 7ms/step\n",
            "Epoch 29/100\n",
            "4/4 - 0s - loss: 0.0326 - accuracy: 0.9918 - val_loss: 0.1003 - val_accuracy: 0.9560 - 27ms/epoch - 7ms/step\n",
            "Epoch 30/100\n",
            "4/4 - 0s - loss: 0.0307 - accuracy: 0.9918 - val_loss: 0.1022 - val_accuracy: 0.9560 - 27ms/epoch - 7ms/step\n",
            "Epoch 31/100\n",
            "4/4 - 0s - loss: 0.0293 - accuracy: 0.9918 - val_loss: 0.1029 - val_accuracy: 0.9560 - 27ms/epoch - 7ms/step\n",
            "Epoch 32/100\n",
            "4/4 - 0s - loss: 0.0282 - accuracy: 0.9918 - val_loss: 0.1039 - val_accuracy: 0.9560 - 30ms/epoch - 8ms/step\n",
            "Epoch 33/100\n",
            "4/4 - 0s - loss: 0.0265 - accuracy: 0.9918 - val_loss: 0.1023 - val_accuracy: 0.9560 - 28ms/epoch - 7ms/step\n",
            "Epoch 34/100\n",
            "4/4 - 0s - loss: 0.0249 - accuracy: 0.9918 - val_loss: 0.1016 - val_accuracy: 0.9560 - 28ms/epoch - 7ms/step\n",
            "Epoch 35/100\n",
            "4/4 - 0s - loss: 0.0234 - accuracy: 0.9918 - val_loss: 0.1048 - val_accuracy: 0.9560 - 28ms/epoch - 7ms/step\n",
            "Epoch 36/100\n",
            "4/4 - 0s - loss: 0.0222 - accuracy: 0.9918 - val_loss: 0.1051 - val_accuracy: 0.9560 - 27ms/epoch - 7ms/step\n",
            "Epoch 37/100\n",
            "4/4 - 0s - loss: 0.0208 - accuracy: 0.9918 - val_loss: 0.1076 - val_accuracy: 0.9560 - 30ms/epoch - 7ms/step\n",
            "Epoch 38/100\n",
            "4/4 - 0s - loss: 0.0196 - accuracy: 0.9945 - val_loss: 0.1074 - val_accuracy: 0.9560 - 29ms/epoch - 7ms/step\n",
            "Epoch 39/100\n",
            "4/4 - 0s - loss: 0.0187 - accuracy: 0.9918 - val_loss: 0.1108 - val_accuracy: 0.9560 - 27ms/epoch - 7ms/step\n",
            "Epoch 40/100\n",
            "4/4 - 0s - loss: 0.0173 - accuracy: 0.9945 - val_loss: 0.1140 - val_accuracy: 0.9560 - 28ms/epoch - 7ms/step\n",
            "Epoch 41/100\n",
            "4/4 - 0s - loss: 0.0164 - accuracy: 0.9918 - val_loss: 0.1148 - val_accuracy: 0.9560 - 30ms/epoch - 8ms/step\n",
            "Epoch 42/100\n",
            "4/4 - 0s - loss: 0.0155 - accuracy: 0.9973 - val_loss: 0.1165 - val_accuracy: 0.9560 - 27ms/epoch - 7ms/step\n",
            "Epoch 43/100\n",
            "4/4 - 0s - loss: 0.0142 - accuracy: 0.9973 - val_loss: 0.1137 - val_accuracy: 0.9560 - 31ms/epoch - 8ms/step\n",
            "Epoch 44/100\n",
            "4/4 - 0s - loss: 0.0141 - accuracy: 0.9973 - val_loss: 0.1167 - val_accuracy: 0.9560 - 28ms/epoch - 7ms/step\n",
            "Epoch 45/100\n",
            "4/4 - 0s - loss: 0.0132 - accuracy: 0.9973 - val_loss: 0.1192 - val_accuracy: 0.9560 - 38ms/epoch - 10ms/step\n",
            "Epoch 46/100\n",
            "4/4 - 0s - loss: 0.0123 - accuracy: 0.9973 - val_loss: 0.1217 - val_accuracy: 0.9560 - 29ms/epoch - 7ms/step\n",
            "Epoch 47/100\n",
            "4/4 - 0s - loss: 0.0114 - accuracy: 0.9973 - val_loss: 0.1188 - val_accuracy: 0.9560 - 27ms/epoch - 7ms/step\n",
            "Epoch 48/100\n",
            "4/4 - 0s - loss: 0.0110 - accuracy: 0.9973 - val_loss: 0.1265 - val_accuracy: 0.9560 - 28ms/epoch - 7ms/step\n",
            "Epoch 49/100\n",
            "4/4 - 0s - loss: 0.0102 - accuracy: 0.9973 - val_loss: 0.1281 - val_accuracy: 0.9560 - 28ms/epoch - 7ms/step\n",
            "Epoch 50/100\n",
            "4/4 - 0s - loss: 0.0096 - accuracy: 0.9973 - val_loss: 0.1235 - val_accuracy: 0.9560 - 29ms/epoch - 7ms/step\n",
            "Epoch 51/100\n",
            "4/4 - 0s - loss: 0.0089 - accuracy: 0.9973 - val_loss: 0.1281 - val_accuracy: 0.9560 - 32ms/epoch - 8ms/step\n",
            "Epoch 52/100\n",
            "4/4 - 0s - loss: 0.0083 - accuracy: 0.9973 - val_loss: 0.1277 - val_accuracy: 0.9560 - 30ms/epoch - 7ms/step\n",
            "Epoch 53/100\n",
            "4/4 - 0s - loss: 0.0080 - accuracy: 0.9973 - val_loss: 0.1344 - val_accuracy: 0.9560 - 37ms/epoch - 9ms/step\n",
            "Epoch 54/100\n",
            "4/4 - 0s - loss: 0.0073 - accuracy: 0.9973 - val_loss: 0.1342 - val_accuracy: 0.9560 - 32ms/epoch - 8ms/step\n",
            "Epoch 55/100\n",
            "4/4 - 0s - loss: 0.0068 - accuracy: 0.9973 - val_loss: 0.1433 - val_accuracy: 0.9560 - 29ms/epoch - 7ms/step\n",
            "Epoch 56/100\n",
            "4/4 - 0s - loss: 0.0061 - accuracy: 1.0000 - val_loss: 0.1435 - val_accuracy: 0.9560 - 30ms/epoch - 8ms/step\n",
            "Epoch 57/100\n",
            "4/4 - 0s - loss: 0.0055 - accuracy: 1.0000 - val_loss: 0.1435 - val_accuracy: 0.9560 - 28ms/epoch - 7ms/step\n",
            "Epoch 58/100\n",
            "4/4 - 0s - loss: 0.0051 - accuracy: 1.0000 - val_loss: 0.1513 - val_accuracy: 0.9560 - 32ms/epoch - 8ms/step\n",
            "Epoch 59/100\n",
            "4/4 - 0s - loss: 0.0044 - accuracy: 1.0000 - val_loss: 0.1541 - val_accuracy: 0.9560 - 29ms/epoch - 7ms/step\n",
            "Epoch 60/100\n",
            "4/4 - 0s - loss: 0.0041 - accuracy: 1.0000 - val_loss: 0.1594 - val_accuracy: 0.9560 - 34ms/epoch - 8ms/step\n",
            "Epoch 61/100\n",
            "4/4 - 0s - loss: 0.0037 - accuracy: 1.0000 - val_loss: 0.1528 - val_accuracy: 0.9560 - 28ms/epoch - 7ms/step\n",
            "Epoch 62/100\n",
            "4/4 - 0s - loss: 0.0033 - accuracy: 1.0000 - val_loss: 0.1621 - val_accuracy: 0.9560 - 28ms/epoch - 7ms/step\n",
            "Epoch 63/100\n",
            "4/4 - 0s - loss: 0.0030 - accuracy: 1.0000 - val_loss: 0.1648 - val_accuracy: 0.9560 - 27ms/epoch - 7ms/step\n",
            "Epoch 64/100\n",
            "4/4 - 0s - loss: 0.0027 - accuracy: 1.0000 - val_loss: 0.1677 - val_accuracy: 0.9560 - 30ms/epoch - 7ms/step\n",
            "Epoch 65/100\n",
            "4/4 - 0s - loss: 0.0023 - accuracy: 1.0000 - val_loss: 0.1658 - val_accuracy: 0.9560 - 30ms/epoch - 8ms/step\n",
            "Epoch 66/100\n",
            "4/4 - 0s - loss: 0.0023 - accuracy: 1.0000 - val_loss: 0.1721 - val_accuracy: 0.9560 - 30ms/epoch - 8ms/step\n",
            "Epoch 67/100\n",
            "4/4 - 0s - loss: 0.0021 - accuracy: 1.0000 - val_loss: 0.1731 - val_accuracy: 0.9560 - 27ms/epoch - 7ms/step\n",
            "Epoch 68/100\n",
            "4/4 - 0s - loss: 0.0018 - accuracy: 1.0000 - val_loss: 0.1733 - val_accuracy: 0.9560 - 31ms/epoch - 8ms/step\n",
            "Epoch 69/100\n",
            "4/4 - 0s - loss: 0.0019 - accuracy: 1.0000 - val_loss: 0.1825 - val_accuracy: 0.9560 - 28ms/epoch - 7ms/step\n",
            "Epoch 70/100\n",
            "4/4 - 0s - loss: 0.0015 - accuracy: 1.0000 - val_loss: 0.1844 - val_accuracy: 0.9560 - 30ms/epoch - 8ms/step\n",
            "Epoch 71/100\n",
            "4/4 - 0s - loss: 0.0013 - accuracy: 1.0000 - val_loss: 0.1809 - val_accuracy: 0.9560 - 31ms/epoch - 8ms/step\n",
            "Epoch 72/100\n",
            "4/4 - 0s - loss: 0.0012 - accuracy: 1.0000 - val_loss: 0.1825 - val_accuracy: 0.9560 - 31ms/epoch - 8ms/step\n",
            "Epoch 73/100\n",
            "4/4 - 0s - loss: 0.0010 - accuracy: 1.0000 - val_loss: 0.1813 - val_accuracy: 0.9560 - 27ms/epoch - 7ms/step\n",
            "Epoch 74/100\n",
            "4/4 - 0s - loss: 9.8369e-04 - accuracy: 1.0000 - val_loss: 0.1856 - val_accuracy: 0.9560 - 27ms/epoch - 7ms/step\n",
            "Epoch 75/100\n",
            "4/4 - 0s - loss: 9.1480e-04 - accuracy: 1.0000 - val_loss: 0.1881 - val_accuracy: 0.9560 - 29ms/epoch - 7ms/step\n",
            "Epoch 76/100\n",
            "4/4 - 0s - loss: 8.7802e-04 - accuracy: 1.0000 - val_loss: 0.1944 - val_accuracy: 0.9560 - 29ms/epoch - 7ms/step\n",
            "Epoch 77/100\n",
            "4/4 - 0s - loss: 7.2861e-04 - accuracy: 1.0000 - val_loss: 0.1947 - val_accuracy: 0.9560 - 33ms/epoch - 8ms/step\n",
            "Epoch 78/100\n",
            "4/4 - 0s - loss: 6.5736e-04 - accuracy: 1.0000 - val_loss: 0.1969 - val_accuracy: 0.9560 - 27ms/epoch - 7ms/step\n",
            "Epoch 79/100\n",
            "4/4 - 0s - loss: 5.8914e-04 - accuracy: 1.0000 - val_loss: 0.2000 - val_accuracy: 0.9560 - 36ms/epoch - 9ms/step\n",
            "Epoch 80/100\n",
            "4/4 - 0s - loss: 5.9387e-04 - accuracy: 1.0000 - val_loss: 0.1999 - val_accuracy: 0.9560 - 31ms/epoch - 8ms/step\n",
            "Epoch 81/100\n",
            "4/4 - 0s - loss: 4.9510e-04 - accuracy: 1.0000 - val_loss: 0.1991 - val_accuracy: 0.9560 - 28ms/epoch - 7ms/step\n",
            "Epoch 82/100\n",
            "4/4 - 0s - loss: 4.2517e-04 - accuracy: 1.0000 - val_loss: 0.2059 - val_accuracy: 0.9560 - 28ms/epoch - 7ms/step\n",
            "Epoch 83/100\n",
            "4/4 - 0s - loss: 3.8792e-04 - accuracy: 1.0000 - val_loss: 0.2015 - val_accuracy: 0.9560 - 31ms/epoch - 8ms/step\n",
            "Epoch 84/100\n",
            "4/4 - 0s - loss: 3.2866e-04 - accuracy: 1.0000 - val_loss: 0.2063 - val_accuracy: 0.9560 - 31ms/epoch - 8ms/step\n",
            "Epoch 85/100\n",
            "4/4 - 0s - loss: 2.8705e-04 - accuracy: 1.0000 - val_loss: 0.2051 - val_accuracy: 0.9560 - 32ms/epoch - 8ms/step\n",
            "Epoch 86/100\n",
            "4/4 - 0s - loss: 3.2742e-04 - accuracy: 1.0000 - val_loss: 0.2082 - val_accuracy: 0.9560 - 29ms/epoch - 7ms/step\n",
            "Epoch 87/100\n",
            "4/4 - 0s - loss: 2.4630e-04 - accuracy: 1.0000 - val_loss: 0.2193 - val_accuracy: 0.9560 - 32ms/epoch - 8ms/step\n",
            "Epoch 88/100\n",
            "4/4 - 0s - loss: 2.3727e-04 - accuracy: 1.0000 - val_loss: 0.2163 - val_accuracy: 0.9560 - 48ms/epoch - 12ms/step\n",
            "Epoch 89/100\n",
            "4/4 - 0s - loss: 1.9970e-04 - accuracy: 1.0000 - val_loss: 0.2186 - val_accuracy: 0.9560 - 33ms/epoch - 8ms/step\n",
            "Epoch 90/100\n",
            "4/4 - 0s - loss: 1.8115e-04 - accuracy: 1.0000 - val_loss: 0.2255 - val_accuracy: 0.9560 - 27ms/epoch - 7ms/step\n",
            "Epoch 91/100\n",
            "4/4 - 0s - loss: 1.7127e-04 - accuracy: 1.0000 - val_loss: 0.2212 - val_accuracy: 0.9560 - 32ms/epoch - 8ms/step\n",
            "Epoch 92/100\n",
            "4/4 - 0s - loss: 1.4463e-04 - accuracy: 1.0000 - val_loss: 0.2253 - val_accuracy: 0.9560 - 31ms/epoch - 8ms/step\n",
            "Epoch 93/100\n",
            "4/4 - 0s - loss: 1.2868e-04 - accuracy: 1.0000 - val_loss: 0.2131 - val_accuracy: 0.9560 - 28ms/epoch - 7ms/step\n",
            "Epoch 94/100\n",
            "4/4 - 0s - loss: 1.0751e-04 - accuracy: 1.0000 - val_loss: 0.2222 - val_accuracy: 0.9560 - 28ms/epoch - 7ms/step\n",
            "Epoch 95/100\n",
            "4/4 - 0s - loss: 9.4363e-05 - accuracy: 1.0000 - val_loss: 0.2256 - val_accuracy: 0.9560 - 27ms/epoch - 7ms/step\n",
            "Epoch 96/100\n",
            "4/4 - 0s - loss: 9.3067e-05 - accuracy: 1.0000 - val_loss: 0.2243 - val_accuracy: 0.9560 - 42ms/epoch - 10ms/step\n",
            "Epoch 97/100\n",
            "4/4 - 0s - loss: 7.4443e-05 - accuracy: 1.0000 - val_loss: 0.2258 - val_accuracy: 0.9560 - 45ms/epoch - 11ms/step\n",
            "Epoch 98/100\n",
            "4/4 - 0s - loss: 7.1044e-05 - accuracy: 1.0000 - val_loss: 0.2295 - val_accuracy: 0.9560 - 44ms/epoch - 11ms/step\n",
            "Epoch 99/100\n",
            "4/4 - 0s - loss: 7.0144e-05 - accuracy: 1.0000 - val_loss: 0.2438 - val_accuracy: 0.9560 - 39ms/epoch - 10ms/step\n",
            "Epoch 100/100\n",
            "4/4 - 0s - loss: 6.1344e-05 - accuracy: 1.0000 - val_loss: 0.2418 - val_accuracy: 0.9560 - 51ms/epoch - 13ms/step\n"
          ]
        }
      ]
    },
    {
      "cell_type": "code",
      "source": [
        "model2.evaluate(X_test, y_test)"
      ],
      "metadata": {
        "colab": {
          "base_uri": "https://localhost:8080/"
        },
        "id": "WpDeA-PygTqw",
        "outputId": "75ae6e68-222b-4d59-bd0b-ddfce057411c"
      },
      "execution_count": 32,
      "outputs": [
        {
          "output_type": "stream",
          "name": "stdout",
          "text": [
            "4/4 [==============================] - 0s 3ms/step - loss: 0.2223 - accuracy: 0.9825\n"
          ]
        },
        {
          "output_type": "execute_result",
          "data": {
            "text/plain": [
              "[0.22225159406661987, 0.9824561476707458]"
            ]
          },
          "metadata": {},
          "execution_count": 32
        }
      ]
    },
    {
      "cell_type": "code",
      "source": [
        "y_acc2 = hist2.history['accuracy']\n",
        "y_vloss2 = hist2.history['val_loss']\n",
        "xs = np.arange(1,len(y_acc2)+1)"
      ],
      "metadata": {
        "id": "HMHDEaeCgYC-"
      },
      "execution_count": 33,
      "outputs": []
    },
    {
      "cell_type": "code",
      "source": [
        "plt.figure(figsize=(20,8))\n",
        "plt.subplot(121)\n",
        "plt.plot(xs, y_acc, label='train accuracy')\n",
        "plt.plot(xs, y_vloss, label='validation loss')\n",
        "plt.legend()\n",
        "plt.grid()\n",
        "plt.ylim([0,1.1])\n",
        "plt.xlabel('Epoch')\n",
        "plt.title('Adam optimizer')\n",
        "\n",
        "plt.subplot(122)\n",
        "plt.plot(xs, y_acc2, label='train accuracy')\n",
        "plt.plot(xs, y_vloss2, label='validation loss')\n",
        "plt.legend()\n",
        "plt.grid()\n",
        "plt.ylim([0,1.1])\n",
        "plt.xlabel('Epoch')\n",
        "plt.title('RMSprop optimizer')\n",
        "plt.show()"
      ],
      "metadata": {
        "colab": {
          "base_uri": "https://localhost:8080/",
          "height": 338
        },
        "id": "UpXCa1nUgkuq",
        "outputId": "ba59214b-1c31-477e-b0f7-13addec18545"
      },
      "execution_count": 34,
      "outputs": [
        {
          "output_type": "display_data",
          "data": {
            "text/plain": [
              "<Figure size 1440x576 with 2 Axes>"
            ],
            "image/png": "[encoded data removed]"
          },
          "metadata": {
            "needs_background": "light"
          }
        }
      ]
    },
    {
      "cell_type": "code",
      "source": [
        ""
      ],
      "metadata": {
        "id": "uDx-NPtBhkAV"
      },
      "execution_count": null,
      "outputs": []
    }
  ]
}